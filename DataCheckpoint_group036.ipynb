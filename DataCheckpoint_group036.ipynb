{
 "cells": [
  {
   "cell_type": "markdown",
   "metadata": {},
   "source": [
    "# COGS 108 - Data Checkpoint"
   ]
  },
  {
   "cell_type": "markdown",
   "metadata": {},
   "source": [
    "# Names\n",
    "\n",
    "- Daniela Molina\n",
    "- Gabriel Beal\n",
    "- Marc Isaia\n",
    "- Haoxuan Cui"
   ]
  },
  {
   "cell_type": "markdown",
   "metadata": {},
   "source": [
    "<a id='research_question'></a>\n",
    "# Research Question"
   ]
  },
  {
   "cell_type": "markdown",
   "metadata": {},
   "source": [
    "There are currently a substantial amount of teenagers and young adults (ages 14-28) who use the top social media applications in the United States (specifically: Instagram, Facebook, Snapchat, and Twitter.) Taking that into consideration, does extensive usage (2+ hours/day?) of the aforementioned applications by these users generate an onset of symptoms that correspond to the clinical criteria of an Anxiety Disorder and/or Depressive Disorder?"
   ]
  },
  {
   "cell_type": "markdown",
   "metadata": {},
   "source": [
    "# Dataset(s)"
   ]
  },
  {
   "cell_type": "markdown",
   "metadata": {},
   "source": [
    "CSV from the Google Form Survey we conducted:\n",
    "- Dataset Name: Social Media and Mental Health\n",
    "- Link to the dataset: https://raw.githubusercontent.com/COGS108/group036_wi21/main/Social%20Media%20and%20Mental%20Health.csv?token=AJJHPBN3BQHNXLMZPWR5UZTAFWDK2\n",
    "- Number of Observations: 182\n",
    "This dataset is the CSV file created from the responses received on our survey which collected data on social media use and mental health. It contains information about the individual’s identity, their social media usage (average time spent, which apps they use, when they first started using them), and their current mental health as well as whether they feel that it can be attributed to social media."
   ]
  },
  {
   "cell_type": "markdown",
   "metadata": {},
   "source": [
    "# Setup"
   ]
  },
  {
   "cell_type": "code",
   "execution_count": 1,
   "metadata": {},
   "outputs": [],
   "source": [
    "import pandas as pd\n",
    "import numpy as np\n",
    "import seaborn as sns\n",
    "import matplotlib.pyplot as plt"
   ]
  },
  {
   "cell_type": "code",
   "execution_count": 2,
   "metadata": {},
   "outputs": [],
   "source": [
    "df = pd.read_csv(\"Social_Media_and_Mental_Health.csv\")"
   ]
  },
  {
   "cell_type": "code",
   "execution_count": 3,
   "metadata": {},
   "outputs": [
    {
     "data": {
      "text/html": [
       "<div>\n",
       "<style scoped>\n",
       "    .dataframe tbody tr th:only-of-type {\n",
       "        vertical-align: middle;\n",
       "    }\n",
       "\n",
       "    .dataframe tbody tr th {\n",
       "        vertical-align: top;\n",
       "    }\n",
       "\n",
       "    .dataframe thead th {\n",
       "        text-align: right;\n",
       "    }\n",
       "</style>\n",
       "<table border=\"1\" class=\"dataframe\">\n",
       "  <thead>\n",
       "    <tr style=\"text-align: right;\">\n",
       "      <th></th>\n",
       "      <th>Timestamp</th>\n",
       "      <th>What is your preferred gender identity?</th>\n",
       "      <th>What is your age? (In number form)</th>\n",
       "      <th>Do you use social media?</th>\n",
       "      <th>How frequently do you use social media per day?</th>\n",
       "      <th>How often do you use social media per week?</th>\n",
       "      <th>Is social media the first thing you check in the morning?</th>\n",
       "      <th>Is social media the last thing you check before going to bed?</th>\n",
       "      <th>Which of the following social media apps do you use?</th>\n",
       "      <th>When did you first start using social media?</th>\n",
       "      <th>Rate how you feel social media has affected your mental health.</th>\n",
       "      <th>Which of the following mental health issues, if any, do you identify with?</th>\n",
       "      <th>Have you ever had suicidal thoughts?</th>\n",
       "      <th>Do you feel social media has contributed to your previous answers?</th>\n",
       "      <th>Are there any questions, comments, concerns you would like to share? (anonymously)</th>\n",
       "    </tr>\n",
       "  </thead>\n",
       "  <tbody>\n",
       "    <tr>\n",
       "      <th>0</th>\n",
       "      <td>2021/02/03 1:06:21 PM PST</td>\n",
       "      <td>Female</td>\n",
       "      <td>22</td>\n",
       "      <td>Yes</td>\n",
       "      <td>2-3 hours</td>\n",
       "      <td>3-5 times a week</td>\n",
       "      <td>Yes</td>\n",
       "      <td>No</td>\n",
       "      <td>Snapchat;TikTok</td>\n",
       "      <td>Middle School</td>\n",
       "      <td>6</td>\n",
       "      <td>Depression;Anxiety Disorder;Eating Disorder;Sl...</td>\n",
       "      <td>Yes</td>\n",
       "      <td>Maybe</td>\n",
       "      <td>NaN</td>\n",
       "    </tr>\n",
       "    <tr>\n",
       "      <th>1</th>\n",
       "      <td>2021/02/03 1:08:09 PM PST</td>\n",
       "      <td>Female</td>\n",
       "      <td>22</td>\n",
       "      <td>Yes</td>\n",
       "      <td>1-2 hours</td>\n",
       "      <td>I use it every day</td>\n",
       "      <td>No</td>\n",
       "      <td>Yes</td>\n",
       "      <td>Facebook;Instagram;Twitter;TikTok</td>\n",
       "      <td>High School</td>\n",
       "      <td>7</td>\n",
       "      <td>Depression;Anxiety Disorder</td>\n",
       "      <td>No</td>\n",
       "      <td>Maybe</td>\n",
       "      <td>NaN</td>\n",
       "    </tr>\n",
       "    <tr>\n",
       "      <th>2</th>\n",
       "      <td>2021/02/03 1:08:37 PM PST</td>\n",
       "      <td>Female</td>\n",
       "      <td>21</td>\n",
       "      <td>Yes</td>\n",
       "      <td>4+ hours</td>\n",
       "      <td>I use it every day</td>\n",
       "      <td>Yes</td>\n",
       "      <td>Yes</td>\n",
       "      <td>Instagram;Snapchat;Twitter;TikTok</td>\n",
       "      <td>Elementary School</td>\n",
       "      <td>5</td>\n",
       "      <td>Depression</td>\n",
       "      <td>No</td>\n",
       "      <td>Yes</td>\n",
       "      <td>No questions :)</td>\n",
       "    </tr>\n",
       "    <tr>\n",
       "      <th>3</th>\n",
       "      <td>2021/02/03 1:11:37 PM PST</td>\n",
       "      <td>Female</td>\n",
       "      <td>19</td>\n",
       "      <td>Yes</td>\n",
       "      <td>4+ hours</td>\n",
       "      <td>3-5 times a week</td>\n",
       "      <td>Yes</td>\n",
       "      <td>Yes</td>\n",
       "      <td>Instagram;Snapchat;Twitter;TikTok</td>\n",
       "      <td>Elementary School</td>\n",
       "      <td>3</td>\n",
       "      <td>Depression;Anxiety Disorder;Loneliness;Attenti...</td>\n",
       "      <td>Yes</td>\n",
       "      <td>Yes</td>\n",
       "      <td>NaN</td>\n",
       "    </tr>\n",
       "    <tr>\n",
       "      <th>4</th>\n",
       "      <td>2021/02/03 1:16:07 PM PST</td>\n",
       "      <td>Female</td>\n",
       "      <td>21</td>\n",
       "      <td>Yes</td>\n",
       "      <td>2-3 hours</td>\n",
       "      <td>I use it every day</td>\n",
       "      <td>Yes</td>\n",
       "      <td>Yes</td>\n",
       "      <td>Instagram;Snapchat</td>\n",
       "      <td>High School</td>\n",
       "      <td>4</td>\n",
       "      <td>Loneliness</td>\n",
       "      <td>No</td>\n",
       "      <td>Yes</td>\n",
       "      <td>NaN</td>\n",
       "    </tr>\n",
       "  </tbody>\n",
       "</table>\n",
       "</div>"
      ],
      "text/plain": [
       "                   Timestamp What is your preferred gender identity?  \\\n",
       "0  2021/02/03 1:06:21 PM PST                                  Female   \n",
       "1  2021/02/03 1:08:09 PM PST                                  Female   \n",
       "2  2021/02/03 1:08:37 PM PST                                  Female   \n",
       "3  2021/02/03 1:11:37 PM PST                                  Female   \n",
       "4  2021/02/03 1:16:07 PM PST                                  Female   \n",
       "\n",
       "   What is your age? (In number form) Do you use social media?  \\\n",
       "0                                  22                      Yes   \n",
       "1                                  22                      Yes   \n",
       "2                                  21                      Yes   \n",
       "3                                  19                      Yes   \n",
       "4                                  21                      Yes   \n",
       "\n",
       "  How frequently do you use social media per day?  \\\n",
       "0                                       2-3 hours   \n",
       "1                                       1-2 hours   \n",
       "2                                        4+ hours   \n",
       "3                                        4+ hours   \n",
       "4                                       2-3 hours   \n",
       "\n",
       "  How often do you use social media per week?  \\\n",
       "0                            3-5 times a week   \n",
       "1                          I use it every day   \n",
       "2                          I use it every day   \n",
       "3                            3-5 times a week   \n",
       "4                          I use it every day   \n",
       "\n",
       "  Is social media the first thing you check in the morning?  \\\n",
       "0                                                Yes          \n",
       "1                                                 No          \n",
       "2                                                Yes          \n",
       "3                                                Yes          \n",
       "4                                                Yes          \n",
       "\n",
       "  Is social media the last thing you check before going to bed?  \\\n",
       "0                                                 No              \n",
       "1                                                Yes              \n",
       "2                                                Yes              \n",
       "3                                                Yes              \n",
       "4                                                Yes              \n",
       "\n",
       "  Which of the following social media apps do you use?  \\\n",
       "0                                    Snapchat;TikTok     \n",
       "1                  Facebook;Instagram;Twitter;TikTok     \n",
       "2                  Instagram;Snapchat;Twitter;TikTok     \n",
       "3                  Instagram;Snapchat;Twitter;TikTok     \n",
       "4                                 Instagram;Snapchat     \n",
       "\n",
       "  When did you first start using social media?  \\\n",
       "0                                Middle School   \n",
       "1                                  High School   \n",
       "2                            Elementary School   \n",
       "3                            Elementary School   \n",
       "4                                  High School   \n",
       "\n",
       "   Rate how you feel social media has affected your mental health.  \\\n",
       "0                                                  6                 \n",
       "1                                                  7                 \n",
       "2                                                  5                 \n",
       "3                                                  3                 \n",
       "4                                                  4                 \n",
       "\n",
       "  Which of the following mental health issues, if any, do you identify with?  \\\n",
       "0  Depression;Anxiety Disorder;Eating Disorder;Sl...                           \n",
       "1                        Depression;Anxiety Disorder                           \n",
       "2                                         Depression                           \n",
       "3  Depression;Anxiety Disorder;Loneliness;Attenti...                           \n",
       "4                                         Loneliness                           \n",
       "\n",
       "  Have you ever had suicidal thoughts?  \\\n",
       "0                                  Yes   \n",
       "1                                   No   \n",
       "2                                   No   \n",
       "3                                  Yes   \n",
       "4                                   No   \n",
       "\n",
       "  Do you feel social media has contributed to your previous answers?  \\\n",
       "0                                              Maybe                   \n",
       "1                                              Maybe                   \n",
       "2                                                Yes                   \n",
       "3                                                Yes                   \n",
       "4                                                Yes                   \n",
       "\n",
       "  Are there any questions, comments, concerns you would like to share? (anonymously)  \n",
       "0                                                NaN                                  \n",
       "1                                                NaN                                  \n",
       "2                                    No questions :)                                  \n",
       "3                                                NaN                                  \n",
       "4                                                NaN                                  "
      ]
     },
     "execution_count": 3,
     "metadata": {},
     "output_type": "execute_result"
    }
   ],
   "source": [
    "df.head()"
   ]
  },
  {
   "cell_type": "markdown",
   "metadata": {},
   "source": [
    "# Data Cleaning"
   ]
  },
  {
   "cell_type": "markdown",
   "metadata": {},
   "source": [
    "Describe your data cleaning steps here."
   ]
  },
  {
   "cell_type": "code",
   "execution_count": 4,
   "metadata": {},
   "outputs": [
    {
     "data": {
      "text/html": [
       "<div>\n",
       "<style scoped>\n",
       "    .dataframe tbody tr th:only-of-type {\n",
       "        vertical-align: middle;\n",
       "    }\n",
       "\n",
       "    .dataframe tbody tr th {\n",
       "        vertical-align: top;\n",
       "    }\n",
       "\n",
       "    .dataframe thead th {\n",
       "        text-align: right;\n",
       "    }\n",
       "</style>\n",
       "<table border=\"1\" class=\"dataframe\">\n",
       "  <thead>\n",
       "    <tr style=\"text-align: right;\">\n",
       "      <th></th>\n",
       "      <th>time</th>\n",
       "      <th>gender</th>\n",
       "      <th>age</th>\n",
       "      <th>use social media</th>\n",
       "      <th>hours per day</th>\n",
       "      <th>days per week</th>\n",
       "      <th>check morning</th>\n",
       "      <th>check night</th>\n",
       "      <th>apps</th>\n",
       "      <th>start using</th>\n",
       "      <th>impact</th>\n",
       "      <th>mental health issues</th>\n",
       "      <th>suicidal thoughts</th>\n",
       "      <th>SM contributed</th>\n",
       "      <th>feedback</th>\n",
       "    </tr>\n",
       "  </thead>\n",
       "  <tbody>\n",
       "    <tr>\n",
       "      <th>0</th>\n",
       "      <td>2021/02/03 1:06:21 PM PST</td>\n",
       "      <td>Female</td>\n",
       "      <td>22</td>\n",
       "      <td>Yes</td>\n",
       "      <td>2-3 hours</td>\n",
       "      <td>3-5 times a week</td>\n",
       "      <td>Yes</td>\n",
       "      <td>No</td>\n",
       "      <td>Snapchat;TikTok</td>\n",
       "      <td>Middle School</td>\n",
       "      <td>6</td>\n",
       "      <td>Depression;Anxiety Disorder;Eating Disorder;Sl...</td>\n",
       "      <td>Yes</td>\n",
       "      <td>Maybe</td>\n",
       "      <td>NaN</td>\n",
       "    </tr>\n",
       "    <tr>\n",
       "      <th>1</th>\n",
       "      <td>2021/02/03 1:08:09 PM PST</td>\n",
       "      <td>Female</td>\n",
       "      <td>22</td>\n",
       "      <td>Yes</td>\n",
       "      <td>1-2 hours</td>\n",
       "      <td>I use it every day</td>\n",
       "      <td>No</td>\n",
       "      <td>Yes</td>\n",
       "      <td>Facebook;Instagram;Twitter;TikTok</td>\n",
       "      <td>High School</td>\n",
       "      <td>7</td>\n",
       "      <td>Depression;Anxiety Disorder</td>\n",
       "      <td>No</td>\n",
       "      <td>Maybe</td>\n",
       "      <td>NaN</td>\n",
       "    </tr>\n",
       "    <tr>\n",
       "      <th>2</th>\n",
       "      <td>2021/02/03 1:08:37 PM PST</td>\n",
       "      <td>Female</td>\n",
       "      <td>21</td>\n",
       "      <td>Yes</td>\n",
       "      <td>4+ hours</td>\n",
       "      <td>I use it every day</td>\n",
       "      <td>Yes</td>\n",
       "      <td>Yes</td>\n",
       "      <td>Instagram;Snapchat;Twitter;TikTok</td>\n",
       "      <td>Elementary School</td>\n",
       "      <td>5</td>\n",
       "      <td>Depression</td>\n",
       "      <td>No</td>\n",
       "      <td>Yes</td>\n",
       "      <td>No questions :)</td>\n",
       "    </tr>\n",
       "    <tr>\n",
       "      <th>3</th>\n",
       "      <td>2021/02/03 1:11:37 PM PST</td>\n",
       "      <td>Female</td>\n",
       "      <td>19</td>\n",
       "      <td>Yes</td>\n",
       "      <td>4+ hours</td>\n",
       "      <td>3-5 times a week</td>\n",
       "      <td>Yes</td>\n",
       "      <td>Yes</td>\n",
       "      <td>Instagram;Snapchat;Twitter;TikTok</td>\n",
       "      <td>Elementary School</td>\n",
       "      <td>3</td>\n",
       "      <td>Depression;Anxiety Disorder;Loneliness;Attenti...</td>\n",
       "      <td>Yes</td>\n",
       "      <td>Yes</td>\n",
       "      <td>NaN</td>\n",
       "    </tr>\n",
       "    <tr>\n",
       "      <th>4</th>\n",
       "      <td>2021/02/03 1:16:07 PM PST</td>\n",
       "      <td>Female</td>\n",
       "      <td>21</td>\n",
       "      <td>Yes</td>\n",
       "      <td>2-3 hours</td>\n",
       "      <td>I use it every day</td>\n",
       "      <td>Yes</td>\n",
       "      <td>Yes</td>\n",
       "      <td>Instagram;Snapchat</td>\n",
       "      <td>High School</td>\n",
       "      <td>4</td>\n",
       "      <td>Loneliness</td>\n",
       "      <td>No</td>\n",
       "      <td>Yes</td>\n",
       "      <td>NaN</td>\n",
       "    </tr>\n",
       "  </tbody>\n",
       "</table>\n",
       "</div>"
      ],
      "text/plain": [
       "                        time  gender  age use social media hours per day  \\\n",
       "0  2021/02/03 1:06:21 PM PST  Female   22              Yes     2-3 hours   \n",
       "1  2021/02/03 1:08:09 PM PST  Female   22              Yes     1-2 hours   \n",
       "2  2021/02/03 1:08:37 PM PST  Female   21              Yes      4+ hours   \n",
       "3  2021/02/03 1:11:37 PM PST  Female   19              Yes      4+ hours   \n",
       "4  2021/02/03 1:16:07 PM PST  Female   21              Yes     2-3 hours   \n",
       "\n",
       "        days per week check morning check night  \\\n",
       "0    3-5 times a week           Yes          No   \n",
       "1  I use it every day            No         Yes   \n",
       "2  I use it every day           Yes         Yes   \n",
       "3    3-5 times a week           Yes         Yes   \n",
       "4  I use it every day           Yes         Yes   \n",
       "\n",
       "                                apps        start using  impact  \\\n",
       "0                    Snapchat;TikTok      Middle School       6   \n",
       "1  Facebook;Instagram;Twitter;TikTok        High School       7   \n",
       "2  Instagram;Snapchat;Twitter;TikTok  Elementary School       5   \n",
       "3  Instagram;Snapchat;Twitter;TikTok  Elementary School       3   \n",
       "4                 Instagram;Snapchat        High School       4   \n",
       "\n",
       "                                mental health issues suicidal thoughts  \\\n",
       "0  Depression;Anxiety Disorder;Eating Disorder;Sl...               Yes   \n",
       "1                        Depression;Anxiety Disorder                No   \n",
       "2                                         Depression                No   \n",
       "3  Depression;Anxiety Disorder;Loneliness;Attenti...               Yes   \n",
       "4                                         Loneliness                No   \n",
       "\n",
       "  SM contributed         feedback  \n",
       "0          Maybe              NaN  \n",
       "1          Maybe              NaN  \n",
       "2            Yes  No questions :)  \n",
       "3            Yes              NaN  \n",
       "4            Yes              NaN  "
      ]
     },
     "execution_count": 4,
     "metadata": {},
     "output_type": "execute_result"
    }
   ],
   "source": [
    "# Rename columns\n",
    "df.columns = ['time', 'gender', 'age', 'use social media', 'hours per day', 'days per week', 'check morning', 'check night', 'apps', 'start using', 'impact', 'mental health issues', 'suicidal thoughts', 'SM contributed', 'feedback']\n",
    "df.head()"
   ]
  },
  {
   "cell_type": "code",
   "execution_count": 5,
   "metadata": {},
   "outputs": [
    {
     "data": {
      "text/plain": [
       "(182, 15)"
      ]
     },
     "execution_count": 5,
     "metadata": {},
     "output_type": "execute_result"
    }
   ],
   "source": [
    "df.shape"
   ]
  },
  {
   "cell_type": "code",
   "execution_count": 6,
   "metadata": {},
   "outputs": [],
   "source": [
    "# Remove responses with age over 28\n",
    "df = df[df['age'] <= 28]"
   ]
  },
  {
   "cell_type": "code",
   "execution_count": 7,
   "metadata": {},
   "outputs": [],
   "source": [
    "# Change yes and no to true and false\n",
    "df = df.replace({\"Yes\": True, \"No\": False})"
   ]
  },
  {
   "cell_type": "code",
   "execution_count": 8,
   "metadata": {},
   "outputs": [],
   "source": [
    "# Drop anyone who doesn't use social media - there was only one within the age range\n",
    "df.drop(df[df['use social media'] == False].index, inplace = True)"
   ]
  },
  {
   "cell_type": "code",
   "execution_count": 9,
   "metadata": {},
   "outputs": [],
   "source": [
    "# Drop time column - not relevant to the research\n",
    "df.drop(columns=['time'], inplace = True)"
   ]
  },
  {
   "cell_type": "code",
   "execution_count": 10,
   "metadata": {},
   "outputs": [],
   "source": [
    "df[\"hours per day\"] = df[\"hours per day\"].str.replace(\" hours\", \"\")"
   ]
  },
  {
   "cell_type": "code",
   "execution_count": 11,
   "metadata": {},
   "outputs": [],
   "source": [
    "df = df.replace({\"Once a week\": \"1\", \"2-3 times a week\": \"2-3\", \"3-5 times a week\": \"3-5\", \"I use it every day\":\"7\"})"
   ]
  },
  {
   "cell_type": "code",
   "execution_count": 12,
   "metadata": {},
   "outputs": [],
   "source": [
    "df = df.replace({\"Non-Binary \": \"Non-binary\", \"Female- heads up this is worded ambiguously and people may interpret it as what gender they're attracted to\": \"Female\"})"
   ]
  },
  {
   "cell_type": "code",
   "execution_count": 13,
   "metadata": {},
   "outputs": [],
   "source": [
    "df['age'] = pd.to_numeric(df['age'])\n",
    "df['impact'] = pd.to_numeric(df['impact'])"
   ]
  },
  {
   "cell_type": "code",
   "execution_count": 14,
   "metadata": {},
   "outputs": [
    {
     "data": {
      "text/plain": [
       "gender                  object\n",
       "age                      int64\n",
       "use social media          bool\n",
       "hours per day           object\n",
       "days per week           object\n",
       "check morning           object\n",
       "check night             object\n",
       "apps                    object\n",
       "start using             object\n",
       "impact                   int64\n",
       "mental health issues    object\n",
       "suicidal thoughts       object\n",
       "SM contributed          object\n",
       "feedback                object\n",
       "dtype: object"
      ]
     },
     "execution_count": 14,
     "metadata": {},
     "output_type": "execute_result"
    }
   ],
   "source": [
    "df.dtypes"
   ]
  },
  {
   "cell_type": "markdown",
   "metadata": {},
   "source": [
    "# Project Proposal (updated)"
   ]
  },
  {
   "cell_type": "markdown",
   "metadata": {},
   "source": [
    "| Meeting Date  | Meeting Time| Completed Before Meeting  | Discuss at Meeting |\n",
    "|---|---|---|---|\n",
    "| 1/20  |  12:30 PM | Read & Think about COGS 108 expectations; brainstorm topics/questions  | Determine best form of communication; Discuss and decide on final project topic; discuss hypothesis; begin background research | \n",
    "| 1/27  |  12:30 PM |  Think about topic of Mental Health and Social Media | Discuss ideal dataset(s) and ethics; draft project proposal and submit | \n",
    "| 2/3  | 12:30 PM  | Search for datasets  | Discuss Wrangling and possible analytical approaches; Assign group members to lead each specific part   |\n",
    "| 2/10  | 12:30 PM  | Import & Wrangle Data | Review/Edit wrangling/EDA; Discuss Analysis Plan   |\n",
    "| 2/17  | 12:30 PM  | Finalize wrangling/EDA; Begin Analysis | Discuss/edit Analysis; Complete project check-in |\n",
    "| 2/24  | 12:30 PM  | Continue analysis | Discuss ideal Data Visualization |\n",
    "| 3/3  | 12:30 PM  | Finalize Data Visualization | Discuss potential conclusions/results |\n",
    "| 3/10  | 12:30 PM  | Think about conclusions/results | Split final writeup duties |\n",
    "| 3/15  | 12:30 PM  | Complete analysis; Draft results/conclusion/discussion | Discuss/edit full project |\n",
    "| 3/17  | Before 11:59 PM  | Finalize writeup | Turn in Final Project & Group Project Surveys |"
   ]
  },
  {
   "cell_type": "code",
   "execution_count": null,
   "metadata": {},
   "outputs": [],
   "source": []
  }
 ],
 "metadata": {
  "kernelspec": {
   "display_name": "Python 3",
   "language": "python",
   "name": "python3"
  },
  "language_info": {
   "codemirror_mode": {
    "name": "ipython",
    "version": 3
   },
   "file_extension": ".py",
   "mimetype": "text/x-python",
   "name": "python",
   "nbconvert_exporter": "python",
   "pygments_lexer": "ipython3",
   "version": "3.7.6"
  }
 },
 "nbformat": 4,
 "nbformat_minor": 2
}
