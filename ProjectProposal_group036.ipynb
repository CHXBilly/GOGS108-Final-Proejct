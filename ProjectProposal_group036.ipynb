{
 "cells": [
  {
   "cell_type": "markdown",
   "metadata": {},
   "source": [
    "# COGS 108 - Final Project Proposal"
   ]
  },
  {
   "cell_type": "markdown",
   "metadata": {},
   "source": [
    "# Names\n",
    "\n",
    "- Gabriel Beal\n",
    "- Marc Isaia\n",
    "- Daniela Molina\n",
    "- Haoxuan Cui\n"
   ]
  },
  {
   "cell_type": "markdown",
   "metadata": {},
   "source": [
    "# Research Question"
   ]
  },
  {
   "cell_type": "markdown",
   "metadata": {},
   "source": [
    "To what extent does the use of social media negatively impact the mental health, specifically depression, loneliness, self-harm, suicide rates, and anxiety of teenagers and young adults in the United States? Does this affect a certain gender more? (Not sure yet if we want to focus on one or multiple mental health aspects depending on the data we gather)"
   ]
  },
  {
   "cell_type": "markdown",
   "metadata": {},
   "source": [
    "## Background and Prior Work"
   ]
  },
  {
   "cell_type": "markdown",
   "metadata": {},
   "source": [
    "I (Marc Isaia) study Cognitive Science and Clinical Psychology. As a result I have taken relevant coursework at UCSD pertaining to our research question. Said coursework includes: Clinical Psychology, Psychological Disorders of Childhood, Clinical Assessment and Treatment, Neuroanatomy and Physiology, Brain Disorders and Cognition, and Statistics. Like Gabriel, I have also noticed negative effects social media usage has caused me as well as my peers. After deleting my social media applications I experience a decrease in social anxiety symptoms. \n \n We are a part of the generation that first started to heavily use and rely on social media for our connections to peers and the outside world. We personally have experienced the negative effects it has had on our own mental health and have found several examples of research papers and articles online that corroborate our own experiences. Personally I (Gabriel Beal), like many other teens and young adults, definitely feel I have an unhealthy level of addiction to my phone that I am currently trying to break but it is incredibly difficult. I have tried to lower my usage of social media over the past year but I am still guilty of comparing myself to others online or constantly checking for likes and experiencing anxiety whenever I occasionally post generally due to worrying about what others will think. \n \n Similarly, I (Daniela Molina) have found that taking time off of social media, or limiting my screen time, has resulted in decreased levels of anxiety, higher confidence levels, and an overall better mood and well-being.  ",
    "\n",
    "References (include links):\n",
    "- 1) [A Majority of Teens Have Experienced Some Form of Cyberbullying](https://www.pewresearch.org/internet/2018/09/27/a-majority-of-teens-have-experienced-some-form-of-cyberbullying/) \n",
    "- 2) [DATA > Teens, Social Media & Technology Overview 2015](https://www.pewresearch.org/internet/2015/04/09/teens-social-media-technology-2015/) \n",
    "- 3) [Social Media Use and its Connection to Mental Health: A Systematic Review](https://www.ncbi.nlm.nih.gov/pmc/articles/PMC7364393/#:~:text=A%20new%20study%20found%20that,the%20group%20using%20social%20media) \n",
    "- 4) [Mental Health Statistics (National Institute of Mental Health)](https://www.nimh.nih.gov/health/statistics/mental-illness.shtml#part_155771) \n",
    "- 5) [Data and Statistics on Children’s Mental Health](https://www.cdc.gov/childrensmentalhealth/data.html) \n",
    "- 6) [The Latest Trends in Social Media](https://www.globalwebindex.com/hubfs/Downloads/Social-H2-2018-report.pdf) \n",
    "- 7) [How the Modern World Makes Us Mentally Ill](https://www.youtube.com/watch?v=Wuf0-x9Pbu4&ab_channel=FightMediocrity) \n"
   ]
  },
  {
   "cell_type": "markdown",
   "metadata": {},
   "source": [
    "# Hypothesis\n"
   ]
  },
  {
   "cell_type": "markdown",
   "metadata": {},
   "source": [
    "We believe that there is a correlation between social media use of teenagers and the rising number in mental health disorders amongst them in the United States, such as depression and anxiety, and has a more negative impact on teenage girls."
   ]
  },
  {
   "cell_type": "markdown",
   "metadata": {},
   "source": [
    "# Data"
   ]
  },
  {
   "cell_type": "markdown",
   "metadata": {},
   "source": [
    "The ideal dataset would consist of at least 30,000 observations consisting of an individual’s identity, such as gender and age, how many social media apps they use on a regular basis as well as which ones, and their average daily screen time spent on these apps. It would also include whether they feel that social media has had a positive, negative or neutral overall impact on their mental health and what they would rate their current mental health state. Ideally, this dataset would be collected through surveys or studies on teenagers with different levels of social media use, and be organized in a csv or json dataset. We plan on collecting data of our own through a survey we create and post on various platforms."
   ]
  },
  {
   "cell_type": "markdown",
   "metadata": {},
   "source": [
    "# Ethics & Privacy"
   ]
  },
  {
   "cell_type": "markdown",
   "metadata": {},
   "source": [
    "We feel the privacy of individuals is extremely important for this topic. Mental health is a very sensitive subject for a majority of people so we only want to use data that was collected ethically and with the permission of the individuals. In regards to social media usage those figures are publicly available but in order to fully explore the hypothesis we would need to correlate an individual’s mental health state and their individual usage of social media which again we feel the need for individual consent is a priority."
   ]
  },
  {
   "cell_type": "markdown",
   "metadata": {},
   "source": [
    "# Team Expectations "
   ]
  },
  {
   "cell_type": "markdown",
   "metadata": {},
   "source": [
    "* We expect to first and foremost gain a better understanding of how to properly assemble vast data sets in an organized and ethical manner\n",
    "* We hope to acquire significant findings that defend our initial hypothesis.\n",
    "* We expect to analyze the trend of mental health disorders and social media use over this last decade\n",
    "* We expect to create and organize effective data visualizations to back our findings"
   ]
  },
  {
   "cell_type": "markdown",
   "metadata": {},
   "source": [
    "# Project Timeline Proposal"
   ]
  },
  {
   "cell_type": "markdown",
   "metadata": {},
   "source": [
    "| Meeting Date  | Meeting Time| Completed Before Meeting  | Discuss at Meeting |\n",
    "|---|---|---|---|\n",
    "| 1/20  |  12:30 PM | Read & Think about COGS 108 expectations; brainstorm topics/questions  | Determine best form of communication; Discuss and decide on final project topic; discuss hypothesis; begin background research | \n",
    "| 1/27  |  12:30 PM |  Think about topic of Mental Health and Social Media | Discuss ideal dataset(s) and ethics; draft project proposal | \n",
    "| 2/3  | 12:30 PM  | Search for datasets  | Discuss Wrangling and possible analytical approaches; Assign group members to lead each specific part   |\n",
    "| 2/10  | 12:30 PM | Import & Wrangle Data; EDA  | Review/Edit wrangling/EDA; Discuss Analysis Plan   |\n",
    "| 2/17  | 12:30 PM  | Finalize wrangling/EDA; Begin Analysis  | Discuss/edit Analysis; Complete project check-in |\n",
    "| 2/24  | 12:30 PM  | Continue Analysis| Discuss ideal Data Visualization |\n",
    "| 3/3  | 12:30 PM  | Finalize Data Visualization| Discuss potential conclusions/results |\n",
    "| 3/10  | 12:30 PM  | Think about conclusions/results| Split Final Writeup Duties  |\n",
    "| 3/15  | 12:30 PM  | Complete analysis; Draft results/conclusion/discussion| Discuss/edit full project |\n",
    "| 3/17  | Before 11:59 PM  | Finalize Writeup | Turn in Final Project & Group Project Surveys |"
   ]
  }
 ],
 "metadata": {
  "kernelspec": {
   "display_name": "Python 3",
   "language": "python",
   "name": "python3"
  },
  "language_info": {
   "codemirror_mode": {
    "name": "ipython",
    "version": 3
   },
   "file_extension": ".py",
   "mimetype": "text/x-python",
   "name": "python",
   "nbconvert_exporter": "python",
   "pygments_lexer": "ipython3",
   "version": "3.7.9"
  }
 },
 "nbformat": 4,
 "nbformat_minor": 2
}
