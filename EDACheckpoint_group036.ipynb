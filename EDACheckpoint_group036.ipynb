{
 "cells": [
  {
   "cell_type": "markdown",
   "metadata": {},
   "source": [
    "# COGS 108 - EDA Checkpoint"
   ]
  },
  {
   "cell_type": "markdown",
   "metadata": {},
   "source": [
    "# Names\n",
    "\n",
    "- Daniela Molina\n",
    "- Gabriel Beal\n",
    "- Marc Isaia\n",
    "- Haoxuan Cui"
   ]
  },
  {
   "cell_type": "markdown",
   "metadata": {},
   "source": [
    "<a id='research_question'></a>\n",
    "# Research Question"
   ]
  },
  {
   "cell_type": "markdown",
   "metadata": {},
   "source": [
    "There are currently a substantial amount of teenagers and young adults (ages 14-28) who use the top social media applications in the United States. Taking that into consideration, does extensive usage (2+ hours/day?) of the aforementioned applications by these users generate an onset of symptoms that correspond to the clinical criteria of an Anxiety Disorder and/or Depressive Disorder?"
   ]
  },
  {
   "cell_type": "markdown",
   "metadata": {},
   "source": [
    "# Setup"
   ]
  },
  {
   "cell_type": "code",
   "execution_count": 1,
   "metadata": {},
   "outputs": [],
   "source": [
    "import pandas as pd\n",
    "import numpy as np\n",
    "import seaborn as sns\n",
    "import matplotlib.pyplot as plt"
   ]
  },
  {
   "cell_type": "code",
   "execution_count": 3,
   "metadata": {},
   "outputs": [],
   "source": [
    "df = pd.read_csv(\"Social Media and Mental Health.csv\")"
   ]
  },
  {
   "cell_type": "markdown",
   "metadata": {},
   "source": [
    "# Data Cleaning"
   ]
  },
  {
   "cell_type": "markdown",
   "metadata": {},
   "source": [
    "Describe your data cleaning steps here."
   ]
  },
  {
   "cell_type": "code",
   "execution_count": 4,
   "metadata": {},
   "outputs": [],
   "source": [
    "# Rename columns\n",
    "df.columns = ['time', 'gender', 'age', 'use social media', 'hours per day', 'days per week', 'check morning', 'check night', 'app count', 'start using', 'impact', 'mental health issues', 'suicidal thoughts', 'SM contributed', 'feedback']\n",
    "# Remove responses with age over 28\n",
    "df = df[df['age'] <= 28]\n",
    "# Change yes and no to true and false\n",
    "df = df.replace({\"Yes\": True, \"No\": False})\n",
    "# Drop time column - not relevant to the research\n",
    "df.drop(columns=['time'], inplace = True)\n",
    "df[\"hours per day\"] = df[\"hours per day\"].str.replace(\" hours\", \"\")\n",
    "df = df.replace({\"Once a week\": \"1\", \"2-3 times a week\": \"2-3\", \"3-5 times a week\": \"3-5\", \"I use it every day\":\"7\"})\n",
    "df = df.replace({\"Non-Binary \": \"Non-binary\", \"Female- heads up this is worded ambiguously and people may interpret it as what gender they're attracted to\": \"Female\"})\n",
    "df['age'] = pd.to_numeric(df['age'])\n",
    "df['impact'] = pd.to_numeric(df['impact'])"
   ]
  },
  {
   "cell_type": "code",
   "execution_count": 5,
   "metadata": {},
   "outputs": [],
   "source": [
    "df_feedback = df\n",
    "df = df.drop(columns=['feedback'])"
   ]
  },
  {
   "cell_type": "code",
   "execution_count": 10,
   "metadata": {},
   "outputs": [
    {
     "data": {
      "text/plain": [
       "False                95\n",
       "True                 72\n",
       "Prefer not to say    11\n",
       "Name: suicidal thoughts, dtype: int64"
      ]
     },
     "execution_count": 10,
     "metadata": {},
     "output_type": "execute_result"
    }
   ],
   "source": [
    "# Additional data cleaning\n",
    "df = df.replace({\"a few times but have never acted on it\": True, \"Maybe \": \"Prefer not to say\", \"Thought about it but can’t do it\": True, \"Passive suicidal thoughts. This means I do not really plan to ever commite sucide but instead just think about it as a option. Then, I snapped out of it because my mood imrpoves.\": True})\n",
    "df['suicidal thoughts'].value_counts()"
   ]
  },
  {
   "cell_type": "code",
   "execution_count": 11,
   "metadata": {},
   "outputs": [
    {
     "data": {
      "text/plain": [
       "Male                 97\n",
       "Female               73\n",
       "Non-binary            5\n",
       "Prefer not to say     5\n",
       "Name: gender, dtype: int64"
      ]
     },
     "execution_count": 11,
     "metadata": {},
     "output_type": "execute_result"
    }
   ],
   "source": [
    "df = df.replace({'Non-binary ': 'Non-binary', \"Don’t know yet\": \"Prefer not to say\"})\n",
    "df['gender'].value_counts()"
   ]
  },
  {
   "cell_type": "code",
   "execution_count": 12,
   "metadata": {},
   "outputs": [],
   "source": [
    "df['Depression'] = [False] * 180\n",
    "df['Anxiety'] = [False] * 180"
   ]
  },
  {
   "cell_type": "code",
   "execution_count": 13,
   "metadata": {},
   "outputs": [],
   "source": [
    "def checkDepression(string):\n",
    "    if 'Depression' in string:\n",
    "        return True\n",
    "    else:\n",
    "        return False"
   ]
  },
  {
   "cell_type": "code",
   "execution_count": 14,
   "metadata": {},
   "outputs": [],
   "source": [
    "def checkAnxiety(string):\n",
    "    if 'Anxiety' in string:\n",
    "        return True\n",
    "    else:\n",
    "        return False"
   ]
  },
  {
   "cell_type": "code",
   "execution_count": 15,
   "metadata": {},
   "outputs": [],
   "source": [
    "df['Depression'] = df['mental health issues'].apply(checkDepression)\n",
    "df['Anxiety'] = df['mental health issues'].apply(checkAnxiety)"
   ]
  },
  {
   "cell_type": "code",
   "execution_count": 16,
   "metadata": {},
   "outputs": [],
   "source": [
    "# Removing mental health issues due to the reduced scope of the question\n",
    "df = df.drop(columns=['mental health issues'])"
   ]
  },
  {
   "cell_type": "code",
   "execution_count": 17,
   "metadata": {},
   "outputs": [],
   "source": [
    "# Count how many social media apps they use (out of the options we gave)\n",
    "def appCount(string):\n",
    "    if 'None of the above' in string:\n",
    "        return 0\n",
    "    semicolons = string.count(';')\n",
    "    return semicolons + 1"
   ]
  },
  {
   "cell_type": "code",
   "execution_count": 18,
   "metadata": {},
   "outputs": [
    {
     "data": {
      "text/plain": [
       "Facebook;Instagram;Snapchat;Twitter;TikTok           19\n",
       "Instagram;Snapchat                                   16\n",
       "Facebook;Instagram;Snapchat;TikTok                   13\n",
       "Instagram;Snapchat;Twitter;TikTok                    13\n",
       "Facebook;Instagram;Snapchat                          12\n",
       "Instagram;Snapchat;Twitter                           12\n",
       "Reddit                                               10\n",
       "None of the above                                     8\n",
       "Instagram;Twitter                                     7\n",
       "Facebook;Instagram                                    7\n",
       "Facebook;Instagram;Snapchat;Twitter                   7\n",
       "Instagram;TikTok                                      6\n",
       "Instagram;Twitter;TikTok                              5\n",
       "Facebook;Instagram;Twitter;TikTok                     5\n",
       "Instagram;Snapchat;TikTok                             5\n",
       "Instagram                                             4\n",
       "Facebook;Instagram;Twitter                            4\n",
       "Snapchat;TikTok                                       3\n",
       "Facebook;Snapchat                                     2\n",
       "Facebook;Reddit                                       2\n",
       "Twitter;TikTok                                        2\n",
       "Facebook                                              2\n",
       "Snapchat;Twitter;TikTok                               2\n",
       "Twitter                                               2\n",
       "Snapchat                                              1\n",
       "Instagram;Snapchat;TikTok;Reddit                      1\n",
       "Instagram;Reddit                                      1\n",
       "Facebook;Instagram;TikTok;Reddit                      1\n",
       "Instagram;TikTok;Reddit                               1\n",
       "Facebook;Snapchat;Twitter;TikTok;Reddit               1\n",
       "Facebook;Snapchat;TikTok                              1\n",
       "Facebook;Instagram;TikTok                             1\n",
       "Facebook;Instagram;Snapchat;Twitter;TikTok;Reddit     1\n",
       "Instagram;Snapchat;None of the above                  1\n",
       "Facebook;Instagram;Snapchat;Twitter;Reddit            1\n",
       "Facebook;Instagram;Snapchat;Reddit                    1\n",
       "Name: app count, dtype: int64"
      ]
     },
     "execution_count": 18,
     "metadata": {},
     "output_type": "execute_result"
    }
   ],
   "source": [
    "df['app count'].value_counts()"
   ]
  },
  {
   "cell_type": "code",
   "execution_count": 19,
   "metadata": {},
   "outputs": [],
   "source": [
    "df['app count'] = df['app count'].apply(appCount)"
   ]
  },
  {
   "cell_type": "code",
   "execution_count": 20,
   "metadata": {},
   "outputs": [
    {
     "data": {
      "text/html": [
       "<div>\n",
       "<style scoped>\n",
       "    .dataframe tbody tr th:only-of-type {\n",
       "        vertical-align: middle;\n",
       "    }\n",
       "\n",
       "    .dataframe tbody tr th {\n",
       "        vertical-align: top;\n",
       "    }\n",
       "\n",
       "    .dataframe thead th {\n",
       "        text-align: right;\n",
       "    }\n",
       "</style>\n",
       "<table border=\"1\" class=\"dataframe\">\n",
       "  <thead>\n",
       "    <tr style=\"text-align: right;\">\n",
       "      <th></th>\n",
       "      <th>gender</th>\n",
       "      <th>age</th>\n",
       "      <th>use social media</th>\n",
       "      <th>hours per day</th>\n",
       "      <th>days per week</th>\n",
       "      <th>check morning</th>\n",
       "      <th>check night</th>\n",
       "      <th>app count</th>\n",
       "      <th>start using</th>\n",
       "      <th>impact</th>\n",
       "      <th>suicidal thoughts</th>\n",
       "      <th>SM contributed</th>\n",
       "      <th>Depression</th>\n",
       "      <th>Anxiety</th>\n",
       "    </tr>\n",
       "  </thead>\n",
       "  <tbody>\n",
       "    <tr>\n",
       "      <th>0</th>\n",
       "      <td>Female</td>\n",
       "      <td>22</td>\n",
       "      <td>True</td>\n",
       "      <td>2-3</td>\n",
       "      <td>3-5</td>\n",
       "      <td>True</td>\n",
       "      <td>False</td>\n",
       "      <td>2</td>\n",
       "      <td>Middle School</td>\n",
       "      <td>6</td>\n",
       "      <td>True</td>\n",
       "      <td>Maybe</td>\n",
       "      <td>True</td>\n",
       "      <td>True</td>\n",
       "    </tr>\n",
       "    <tr>\n",
       "      <th>1</th>\n",
       "      <td>Female</td>\n",
       "      <td>22</td>\n",
       "      <td>True</td>\n",
       "      <td>1-2</td>\n",
       "      <td>7</td>\n",
       "      <td>False</td>\n",
       "      <td>True</td>\n",
       "      <td>4</td>\n",
       "      <td>High School</td>\n",
       "      <td>7</td>\n",
       "      <td>False</td>\n",
       "      <td>Maybe</td>\n",
       "      <td>True</td>\n",
       "      <td>True</td>\n",
       "    </tr>\n",
       "    <tr>\n",
       "      <th>2</th>\n",
       "      <td>Female</td>\n",
       "      <td>21</td>\n",
       "      <td>True</td>\n",
       "      <td>4+</td>\n",
       "      <td>7</td>\n",
       "      <td>True</td>\n",
       "      <td>True</td>\n",
       "      <td>4</td>\n",
       "      <td>Elementary School</td>\n",
       "      <td>5</td>\n",
       "      <td>False</td>\n",
       "      <td>True</td>\n",
       "      <td>True</td>\n",
       "      <td>False</td>\n",
       "    </tr>\n",
       "    <tr>\n",
       "      <th>3</th>\n",
       "      <td>Female</td>\n",
       "      <td>19</td>\n",
       "      <td>True</td>\n",
       "      <td>4+</td>\n",
       "      <td>3-5</td>\n",
       "      <td>True</td>\n",
       "      <td>True</td>\n",
       "      <td>4</td>\n",
       "      <td>Elementary School</td>\n",
       "      <td>3</td>\n",
       "      <td>True</td>\n",
       "      <td>True</td>\n",
       "      <td>True</td>\n",
       "      <td>True</td>\n",
       "    </tr>\n",
       "    <tr>\n",
       "      <th>4</th>\n",
       "      <td>Female</td>\n",
       "      <td>21</td>\n",
       "      <td>True</td>\n",
       "      <td>2-3</td>\n",
       "      <td>7</td>\n",
       "      <td>True</td>\n",
       "      <td>True</td>\n",
       "      <td>2</td>\n",
       "      <td>High School</td>\n",
       "      <td>4</td>\n",
       "      <td>False</td>\n",
       "      <td>True</td>\n",
       "      <td>False</td>\n",
       "      <td>False</td>\n",
       "    </tr>\n",
       "    <tr>\n",
       "      <th>...</th>\n",
       "      <td>...</td>\n",
       "      <td>...</td>\n",
       "      <td>...</td>\n",
       "      <td>...</td>\n",
       "      <td>...</td>\n",
       "      <td>...</td>\n",
       "      <td>...</td>\n",
       "      <td>...</td>\n",
       "      <td>...</td>\n",
       "      <td>...</td>\n",
       "      <td>...</td>\n",
       "      <td>...</td>\n",
       "      <td>...</td>\n",
       "      <td>...</td>\n",
       "    </tr>\n",
       "    <tr>\n",
       "      <th>177</th>\n",
       "      <td>Male</td>\n",
       "      <td>24</td>\n",
       "      <td>True</td>\n",
       "      <td>3-4</td>\n",
       "      <td>7</td>\n",
       "      <td>True</td>\n",
       "      <td>True</td>\n",
       "      <td>1</td>\n",
       "      <td>Middle School</td>\n",
       "      <td>4</td>\n",
       "      <td>True</td>\n",
       "      <td>Maybe</td>\n",
       "      <td>True</td>\n",
       "      <td>True</td>\n",
       "    </tr>\n",
       "    <tr>\n",
       "      <th>178</th>\n",
       "      <td>Male</td>\n",
       "      <td>20</td>\n",
       "      <td>True</td>\n",
       "      <td>2-3</td>\n",
       "      <td>7</td>\n",
       "      <td>True</td>\n",
       "      <td>True</td>\n",
       "      <td>4</td>\n",
       "      <td>High School</td>\n",
       "      <td>5</td>\n",
       "      <td>False</td>\n",
       "      <td>False</td>\n",
       "      <td>False</td>\n",
       "      <td>False</td>\n",
       "    </tr>\n",
       "    <tr>\n",
       "      <th>179</th>\n",
       "      <td>Male</td>\n",
       "      <td>23</td>\n",
       "      <td>True</td>\n",
       "      <td>1-2</td>\n",
       "      <td>7</td>\n",
       "      <td>True</td>\n",
       "      <td>False</td>\n",
       "      <td>0</td>\n",
       "      <td>High School</td>\n",
       "      <td>3</td>\n",
       "      <td>False</td>\n",
       "      <td>True</td>\n",
       "      <td>False</td>\n",
       "      <td>False</td>\n",
       "    </tr>\n",
       "    <tr>\n",
       "      <th>180</th>\n",
       "      <td>Male</td>\n",
       "      <td>19</td>\n",
       "      <td>True</td>\n",
       "      <td>1-2</td>\n",
       "      <td>NaN</td>\n",
       "      <td>False</td>\n",
       "      <td>True</td>\n",
       "      <td>1</td>\n",
       "      <td>High School</td>\n",
       "      <td>5</td>\n",
       "      <td>True</td>\n",
       "      <td>False</td>\n",
       "      <td>False</td>\n",
       "      <td>False</td>\n",
       "    </tr>\n",
       "    <tr>\n",
       "      <th>181</th>\n",
       "      <td>Male</td>\n",
       "      <td>16</td>\n",
       "      <td>True</td>\n",
       "      <td>1-2</td>\n",
       "      <td>7</td>\n",
       "      <td>True</td>\n",
       "      <td>True</td>\n",
       "      <td>1</td>\n",
       "      <td>Middle School</td>\n",
       "      <td>5</td>\n",
       "      <td>True</td>\n",
       "      <td>Maybe</td>\n",
       "      <td>False</td>\n",
       "      <td>False</td>\n",
       "    </tr>\n",
       "  </tbody>\n",
       "</table>\n",
       "<p>180 rows × 14 columns</p>\n",
       "</div>"
      ],
      "text/plain": [
       "     gender  age  use social media hours per day days per week check morning  \\\n",
       "0    Female   22              True           2-3           3-5          True   \n",
       "1    Female   22              True           1-2             7         False   \n",
       "2    Female   21              True            4+             7          True   \n",
       "3    Female   19              True            4+           3-5          True   \n",
       "4    Female   21              True           2-3             7          True   \n",
       "..      ...  ...               ...           ...           ...           ...   \n",
       "177    Male   24              True           3-4             7          True   \n",
       "178    Male   20              True           2-3             7          True   \n",
       "179    Male   23              True           1-2             7          True   \n",
       "180    Male   19              True           1-2           NaN         False   \n",
       "181    Male   16              True           1-2             7          True   \n",
       "\n",
       "    check night  app count        start using  impact suicidal thoughts  \\\n",
       "0         False          2      Middle School       6              True   \n",
       "1          True          4        High School       7             False   \n",
       "2          True          4  Elementary School       5             False   \n",
       "3          True          4  Elementary School       3              True   \n",
       "4          True          2        High School       4             False   \n",
       "..          ...        ...                ...     ...               ...   \n",
       "177        True          1      Middle School       4              True   \n",
       "178        True          4        High School       5             False   \n",
       "179       False          0        High School       3             False   \n",
       "180        True          1        High School       5              True   \n",
       "181        True          1      Middle School       5              True   \n",
       "\n",
       "    SM contributed  Depression  Anxiety  \n",
       "0            Maybe        True     True  \n",
       "1            Maybe        True     True  \n",
       "2             True        True    False  \n",
       "3             True        True     True  \n",
       "4             True       False    False  \n",
       "..             ...         ...      ...  \n",
       "177          Maybe        True     True  \n",
       "178          False       False    False  \n",
       "179           True       False    False  \n",
       "180          False       False    False  \n",
       "181          Maybe       False    False  \n",
       "\n",
       "[180 rows x 14 columns]"
      ]
     },
     "execution_count": 20,
     "metadata": {},
     "output_type": "execute_result"
    }
   ],
   "source": [
    "df"
   ]
  },
  {
   "cell_type": "markdown",
   "metadata": {},
   "source": [
    "# Data Analysis & Results (EDA)"
   ]
  },
  {
   "cell_type": "markdown",
   "metadata": {},
   "source": [
    "Carry out EDA on your dataset(s); Describe in this section"
   ]
  },
  {
   "cell_type": "code",
   "execution_count": 21,
   "metadata": {},
   "outputs": [
    {
     "data": {
      "text/plain": [
       "<matplotlib.axes._subplots.AxesSubplot at 0x7f7d2a397c50>"
      ]
     },
     "execution_count": 21,
     "metadata": {},
     "output_type": "execute_result"
    },
    {
     "data": {
      "image/png": "[encoded data removed]",
      "text/plain": [
       "<Figure size 432x288 with 1 Axes>"
      ]
     },
     "metadata": {
      "needs_background": "light"
     },
     "output_type": "display_data"
    }
   ],
   "source": [
    "# Count plot\n",
    "sns.countplot(x='age', data=df)"
   ]
  },
  {
   "cell_type": "markdown",
   "metadata": {},
   "source": [
    "This plot illustrates the age counts of our dataset. We had a majority of 21 year olds respond to our survey, most likely because we shared this survey primarily amongst our college peers. This is due to the fact that we wanted responses from those who were more likely to grow up using social media."
   ]
  },
  {
   "cell_type": "code",
   "execution_count": 22,
   "metadata": {},
   "outputs": [
    {
     "ename": "AttributeError",
     "evalue": "module 'seaborn' has no attribute 'histplot'",
     "output_type": "error",
     "traceback": [
      "\u001b[0;31m---------------------------------------------------------------------------\u001b[0m",
      "\u001b[0;31mAttributeError\u001b[0m                            Traceback (most recent call last)",
      "\u001b[0;32m<ipython-input-22-82bebcabd454>\u001b[0m in \u001b[0;36m<module>\u001b[0;34m\u001b[0m\n\u001b[0;32m----> 1\u001b[0;31m \u001b[0msns\u001b[0m\u001b[0;34m.\u001b[0m\u001b[0mhistplot\u001b[0m\u001b[0;34m(\u001b[0m\u001b[0mdf\u001b[0m\u001b[0;34m[\u001b[0m\u001b[0;34m'app count'\u001b[0m\u001b[0;34m]\u001b[0m\u001b[0;34m,\u001b[0m \u001b[0mbins\u001b[0m\u001b[0;34m=\u001b[0m\u001b[0;36m7\u001b[0m\u001b[0;34m,\u001b[0m \u001b[0mkde\u001b[0m\u001b[0;34m=\u001b[0m\u001b[0;32mTrue\u001b[0m\u001b[0;34m)\u001b[0m\u001b[0;34m;\u001b[0m\u001b[0;34m\u001b[0m\u001b[0;34m\u001b[0m\u001b[0m\n\u001b[0m",
      "\u001b[0;31mAttributeError\u001b[0m: module 'seaborn' has no attribute 'histplot'"
     ]
    }
   ],
   "source": [
    "sns.histplot(df['app count'], bins=7, kde=True);"
   ]
  },
  {
   "cell_type": "markdown",
   "metadata": {},
   "source": [
    "From our responses, users predominantly participate in 2 to 4 social media apps. From those with a count of 0, only one does not use social media, and the rest do use social media, but not the applications that we had listed."
   ]
  },
  {
   "cell_type": "code",
   "execution_count": 23,
   "metadata": {},
   "outputs": [
    {
     "data": {
      "image/png": "[encoded data removed]",
      "text/plain": [
       "<Figure size 864x432 with 1 Axes>"
      ]
     },
     "metadata": {
      "needs_background": "light"
     },
     "output_type": "display_data"
    }
   ],
   "source": [
    "# jitter points to see relationship between quantitative variables\n",
    "sns.lmplot(x='app count', y='impact', data=df, \n",
    "           fit_reg=False, height=6, aspect=2, \n",
    "           x_jitter=.5, y_jitter=.5);"
   ]
  },
  {
   "cell_type": "markdown",
   "metadata": {},
   "source": [
    "Impact represents how the user rates their social media use has impacted their mental health. The average impact from our responses leaned towards a positive one, but remained very close to neutral."
   ]
  },
  {
   "cell_type": "markdown",
   "metadata": {},
   "source": [
    "This scatterplot with jitterpoints represents the relationship between the number of social media apps that a user has and the impact it has on their mental health, with 0 being the most negative and 10 being the most positive. From this graph, we weren't able to ascertain a trend, but we did notice that there is higher density along the middle of the y-axis, which means that the impact for most individuals was close to neutral (5), no matter the amount of apps one uses. We can see that users with the most amount of apps responded with the most negative impact that social media has on their mental health."
   ]
  },
  {
   "cell_type": "code",
   "execution_count": 24,
   "metadata": {},
   "outputs": [
    {
     "data": {
      "text/plain": [
       "5.294444444444444"
      ]
     },
     "execution_count": 24,
     "metadata": {},
     "output_type": "execute_result"
    }
   ],
   "source": [
    "df['impact'].mean()"
   ]
  },
  {
   "cell_type": "code",
   "execution_count": 25,
   "metadata": {},
   "outputs": [
    {
     "data": {
      "text/plain": [
       "5.260273972602739"
      ]
     },
     "execution_count": 25,
     "metadata": {},
     "output_type": "execute_result"
    }
   ],
   "source": [
    "df[df['gender']== 'Female']['impact'].mean()"
   ]
  },
  {
   "cell_type": "code",
   "execution_count": 26,
   "metadata": {},
   "outputs": [
    {
     "data": {
      "text/plain": [
       "5.350515463917525"
      ]
     },
     "execution_count": 26,
     "metadata": {},
     "output_type": "execute_result"
    }
   ],
   "source": [
    "df[df['gender']== 'Male']['impact'].mean()"
   ]
  },
  {
   "cell_type": "code",
   "execution_count": 27,
   "metadata": {},
   "outputs": [
    {
     "data": {
      "text/plain": [
       "5.8"
      ]
     },
     "execution_count": 27,
     "metadata": {},
     "output_type": "execute_result"
    }
   ],
   "source": [
    "df[df['gender'] == 'Non-binary']['impact'].mean()"
   ]
  },
  {
   "cell_type": "code",
   "execution_count": 28,
   "metadata": {},
   "outputs": [
    {
     "data": {
      "text/plain": [
       "4.2"
      ]
     },
     "execution_count": 28,
     "metadata": {},
     "output_type": "execute_result"
    }
   ],
   "source": [
    "df[df['gender']== 'Prefer not to say']['impact'].mean()"
   ]
  },
  {
   "cell_type": "code",
   "execution_count": 29,
   "metadata": {},
   "outputs": [
    {
     "data": {
      "image/png": "[encoded data removed]",
      "text/plain": [
       "<Figure size 982.5x432 with 1 Axes>"
      ]
     },
     "metadata": {
      "needs_background": "light"
     },
     "output_type": "display_data"
    }
   ],
   "source": [
    "# jitter points to see relationship\n",
    "sns.lmplot(x='age', y='impact', hue='gender', data=df, \n",
    "           fit_reg=False, height=6, aspect=2, \n",
    "           x_jitter=.5, y_jitter=.5);"
   ]
  },
  {
   "cell_type": "markdown",
   "metadata": {},
   "source": [
    "In this scatterplot we are observing the relationsip between app count and impact on mental health across the gender categories. From this visualization it is hard to spot a trend in either male, female, non-binary. However, we calculated the mean for the impact across all gender categories, and we found that they all average neutral but leaning slightly positive, except for the 'Prefer not to say' category, which averaged a 4.2."
   ]
  },
  {
   "cell_type": "code",
   "execution_count": 30,
   "metadata": {},
   "outputs": [
    {
     "data": {
      "image/png": "[encoded data removed]",
      "text/plain": [
       "<Figure size 432x288 with 1 Axes>"
      ]
     },
     "metadata": {
      "needs_background": "light"
     },
     "output_type": "display_data"
    }
   ],
   "source": [
    "# ax = sns.boxplot(x='Depression', y='app count', data=df)\n",
    "ax = sns.barplot(x='app count', y='Depression', data=df)"
   ]
  },
  {
   "cell_type": "code",
   "execution_count": 31,
   "metadata": {},
   "outputs": [
    {
     "data": {
      "image/png": "[encoded data removed]",
      "text/plain": [
       "<Figure size 432x288 with 1 Axes>"
      ]
     },
     "metadata": {
      "needs_background": "light"
     },
     "output_type": "display_data"
    }
   ],
   "source": [
    "sns.barplot(x='app count', y='Anxiety', data=df);"
   ]
  },
  {
   "cell_type": "markdown",
   "metadata": {},
   "source": [
    "From these two visualizations, we can see a slight positive correlation between app count and the two mental health disorders, Depression and Anxiety. As the amount of social media apps an individual uses on a regular basis increases, so do the average levels of Anxiety/Depression within that group of individuals. Although, 3 and 4 apps for Anxiety and 3 apps for Depression do not follow this trend."
   ]
  },
  {
   "cell_type": "code",
   "execution_count": 32,
   "metadata": {},
   "outputs": [
    {
     "data": {
      "image/png": "[encoded data removed]",
      "text/plain": [
       "<Figure size 432x288 with 1 Axes>"
      ]
     },
     "metadata": {
      "needs_background": "light"
     },
     "output_type": "display_data"
    }
   ],
   "source": [
    "sns.barplot(x='hours per day', y='Depression', data=df);"
   ]
  },
  {
   "cell_type": "code",
   "execution_count": 36,
   "metadata": {},
   "outputs": [
    {
     "data": {
      "image/png": "[encoded data removed]",
      "text/plain": [
       "<Figure size 432x288 with 1 Axes>"
      ]
     },
     "metadata": {
      "needs_background": "light"
     },
     "output_type": "display_data"
    }
   ],
   "source": [
    "sns.barplot(x='hours per day', y='Anxiety', data=df);"
   ]
  },
  {
   "cell_type": "markdown",
   "metadata": {},
   "source": [
    "Similar to the previous two visualizations, we can see that the hours per day a user spends on social media also has a slight positive correlation to depression and anxiety averages. For depression, the group of individuals that spend less time on social media per day experience less depression than the groups of individuals that spend more time on it. Anxiety follows a similar pattern, but with slight variations since those who used social media 0-1 hours per day have more collective anxiety than the group of individuals that use it 1-2 hours a day, but past that the collective anxiety levels rise."
   ]
  },
  {
   "cell_type": "code",
   "execution_count": 39,
   "metadata": {},
   "outputs": [
    {
     "data": {
      "image/png": "[encoded data removed]",
      "text/plain": [
       "<Figure size 432x288 with 1 Axes>"
      ]
     },
     "metadata": {
      "needs_background": "light"
     },
     "output_type": "display_data"
    }
   ],
   "source": [
    "ax = sns.barplot(x='gender', y='app count', data=df);"
   ]
  },
  {
   "cell_type": "markdown",
   "metadata": {},
   "source": [
    "From this plot we wanted to see the average number of social apps that each gender uses. We can see that the average is close to 3 for all genders with males on average having the least amount of apps and non-binary having the most. Granted we only have a few non-binary responses."
   ]
  },
  {
   "cell_type": "code",
   "execution_count": 44,
   "metadata": {},
   "outputs": [
    {
     "data": {
      "text/plain": [
       "<matplotlib.axes._subplots.AxesSubplot at 0x7f7d2817bf50>"
      ]
     },
     "execution_count": 44,
     "metadata": {},
     "output_type": "execute_result"
    },
    {
     "data": {
      "image/png": "[encoded data removed]",
      "text/plain": [
       "<Figure size 432x288 with 1 Axes>"
      ]
     },
     "metadata": {},
     "output_type": "display_data"
    }
   ],
   "source": [
    "df['check morning'].value_counts().plot(kind='pie')"
   ]
  },
  {
   "cell_type": "code",
   "execution_count": 45,
   "metadata": {},
   "outputs": [
    {
     "data": {
      "text/plain": [
       "<matplotlib.axes._subplots.AxesSubplot at 0x7f7d23f607d0>"
      ]
     },
     "execution_count": 45,
     "metadata": {},
     "output_type": "execute_result"
    },
    {
     "data": {
      "image/png": "[encoded data removed]",
      "text/plain": [
       "<Figure size 432x288 with 1 Axes>"
      ]
     },
     "metadata": {},
     "output_type": "display_data"
    }
   ],
   "source": [
    "df['check night'].value_counts().plot(kind='pie')"
   ]
  },
  {
   "cell_type": "markdown",
   "metadata": {},
   "source": [
    "These two graphs show pie charts of the responses to our \"Do you check social media first thing in the morning/lastly at night\" question in our survey. From this we can see that a majority of people check social media before they go to bed and for just under a majority of people it is the first thing they check when they wake up."
   ]
  }
 ],
 "metadata": {
  "kernelspec": {
   "display_name": "Python 3",
   "language": "python",
   "name": "python3"
  },
  "language_info": {
   "codemirror_mode": {
    "name": "ipython",
    "version": 3
   },
   "file_extension": ".py",
   "mimetype": "text/x-python",
   "name": "python",
   "nbconvert_exporter": "python",
   "pygments_lexer": "ipython3",
   "version": "3.7.6"
  }
 },
 "nbformat": 4,
 "nbformat_minor": 2
}
