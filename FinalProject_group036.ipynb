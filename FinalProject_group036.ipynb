{
 "cells": [
  {
   "cell_type": "markdown",
   "metadata": {},
   "source": [
    "# COGS 108 - Final Project (change this to your project's title)"
   ]
  },
  {
   "cell_type": "markdown",
   "metadata": {},
   "source": [
    "## Permissions\n",
    "\n",
    "Place an `X` in the appropriate bracket below to specify if you would like your group's project to be made available to the public. (Note that student names will be included (but PIDs will be scraped from any groups who include their PIDs).\n",
    "\n",
    "* [  ] YES - make available\n",
    "* [X] NO - keep private"
   ]
  },
  {
   "cell_type": "markdown",
   "metadata": {},
   "source": [
    "# Overview"
   ]
  },
  {
   "cell_type": "markdown",
   "metadata": {},
   "source": [
    "*Fill in your overview here*"
   ]
  },
  {
   "cell_type": "markdown",
   "metadata": {},
   "source": [
    "# Names\n",
    "\n",
    "- Daniela Molina\n",
    "- Gabriel Beal\n",
    "- Marc Isaia\n",
    "- Haoxuan Cui"
   ]
  },
  {
   "cell_type": "markdown",
   "metadata": {},
   "source": [
    "<a id='research_question'></a>\n",
    "# Research Question"
   ]
  },
  {
   "cell_type": "markdown",
   "metadata": {},
   "source": [
    "There are currently a substantial amount of teenagers and young adults (ages 14-28) who use the top social media applications in the United States. Taking that into consideration, does extensive usage (2+ hours/day?) of the aforementioned applications by these users generate an onset of symptoms that correspond to the clinical criteria of an Anxiety Disorder and/or Depressive Disorder?"
   ]
  },
  {
   "cell_type": "markdown",
   "metadata": {},
   "source": [
    "<a id='background'></a>\n",
    "\n",
    "## Background & Prior Work"
   ]
  },
  {
   "cell_type": "markdown",
   "metadata": {},
   "source": [
    "*Fill in your background and prior work here* \n",
    "\n",
    "References (include links):\n",
    "- 1)\n",
    "- 2)"
   ]
  },
  {
   "cell_type": "markdown",
   "metadata": {},
   "source": [
    "# Hypothesis\n"
   ]
  },
  {
   "cell_type": "markdown",
   "metadata": {},
   "source": [
    "*Fill in your hypotheses here*"
   ]
  },
  {
   "cell_type": "markdown",
   "metadata": {},
   "source": [
    "# Dataset(s)"
   ]
  },
  {
   "cell_type": "markdown",
   "metadata": {},
   "source": [
    "CSV from the Google Form Survey we conducted:\n",
    "- Dataset Name: Social Media and Mental Health\n",
    "- Link to the dataset: \"Social Media and Mental Health.csv\" in our Github Repo\n",
    "- Number of Observations: 182\n",
    "This dataset is the CSV file created from the responses received on our survey which collected data on social media use and mental health. It contains information about the individual’s identity, their social media usage (average time spent, which apps they use, when they first started using them), and their current mental health as well as whether they feel that it can be attributed to social media."
   ]
  },
  {
   "cell_type": "markdown",
   "metadata": {},
   "source": [
    "# Setup"
   ]
  },
  {
   "cell_type": "code",
   "execution_count": 1,
   "metadata": {},
   "outputs": [],
   "source": [
    "import pandas as pd\n",
    "import numpy as np\n",
    "import seaborn as sns\n",
    "import matplotlib.pyplot as plt\n",
    "\n",
    "# Statmodels & patsy\n",
    "import patsy\n",
    "import statsmodels.api as sm\n",
    "from scipy.stats import pearsonr, norm, ttest_ind\n",
    "from sklearn.linear_model import LogisticRegression\n",
    "from sklearn.metrics import classification_report"
   ]
  },
  {
   "cell_type": "code",
   "execution_count": 2,
   "metadata": {},
   "outputs": [],
   "source": [
    "df = pd.read_csv(\"Social_Media_and_Mental_Health.csv\")"
   ]
  },
  {
   "cell_type": "markdown",
   "metadata": {},
   "source": [
    "# Data Cleaning"
   ]
  },
  {
   "cell_type": "markdown",
   "metadata": {},
   "source": [
    "The following are the steps we took to clean up our data."
   ]
  },
  {
   "cell_type": "code",
   "execution_count": 3,
   "metadata": {},
   "outputs": [],
   "source": [
    "# Rename columns\n",
    "df.columns = ['time', 'gender', 'age', 'use social media', 'hours per day', 'days per week', 'check morning', 'check night', 'app count', 'start using', 'impact', 'mental health issues', 'suicidal thoughts', 'SM contributed', 'feedback']\n",
    "\n",
    "# Remove responses with age over 28\n",
    "df = df[df['age'] <= 28]\n",
    "\n",
    "# Change yes and no to true and false\n",
    "df = df.replace({\"Yes\": True, \"No\": False})\n",
    "\n",
    "# Drop time column - not relevant to the research\n",
    "df.drop(columns=['time'], inplace = True)\n",
    "\n",
    "# Clean up time used\n",
    "df[\"hours per day\"] = df[\"hours per day\"].str.replace(\" hours\", \"\")\n",
    "df = df.replace({\"Once a week\": \"1\", \"2-3 times a week\": \"2-3\", \"3-5 times a week\": \"3-5\", \"I use it every day\":\"7\"})\n",
    "\n",
    "# Clean up suicidal thoughts\n",
    "df = df.replace({\"a few times but have never acted on it\": True, \"Maybe \": \"Prefer not to say\", \"Thought about it but can’t do it\": True, \"Passive suicidal thoughts. This means I do not really plan to ever commite sucide but instead just think about it as a option. Then, I snapped out of it because my mood imrpoves.\": True})\n",
    "df['suicidal thoughts'].value_counts()\n",
    "\n",
    "# Change strings to numbers\n",
    "df['age'] = pd.to_numeric(df['age'])\n",
    "df['impact'] = pd.to_numeric(df['impact'])\n",
    "\n",
    "# Save feedback in separate dataframe\n",
    "df_feedback = df\n",
    "df = df.drop(columns=['feedback'])"
   ]
  },
  {
   "cell_type": "code",
   "execution_count": 4,
   "metadata": {},
   "outputs": [],
   "source": [
    "def cleanGender(string):\n",
    "    if 'Female' in string:\n",
    "        return 'Female'\n",
    "    elif 'Male' in string:\n",
    "        return 'Male'\n",
    "    else:\n",
    "        return 'Other'\n",
    "df['gender'] = df['gender'].apply(cleanGender)"
   ]
  },
  {
   "cell_type": "code",
   "execution_count": 5,
   "metadata": {},
   "outputs": [],
   "source": [
    "# Function to check whether the individual has Depression\n",
    "def checkDepression(string):\n",
    "    if 'Depression' in string:\n",
    "        return True\n",
    "    else:\n",
    "        return False"
   ]
  },
  {
   "cell_type": "code",
   "execution_count": 6,
   "metadata": {},
   "outputs": [],
   "source": [
    "# Function to check whether the individual has Anxiety\n",
    "def checkAnxiety(string):\n",
    "    if 'Anxiety' in string:\n",
    "        return True\n",
    "    else:\n",
    "        return False"
   ]
  },
  {
   "cell_type": "code",
   "execution_count": 7,
   "metadata": {},
   "outputs": [],
   "source": [
    "# Create new columns for whether the individual has Depression/Anxiety\n",
    "df['Depression'] = df['mental health issues'].apply(checkDepression)\n",
    "df['Anxiety'] = df['mental health issues'].apply(checkAnxiety)\n",
    "\n",
    "# Removing mental health issues due to the reduced scope of the question\n",
    "df = df.drop(columns=['mental health issues'])"
   ]
  },
  {
   "cell_type": "code",
   "execution_count": 8,
   "metadata": {},
   "outputs": [],
   "source": [
    "# Function to count how many social media apps they use (out of the options we gave)\n",
    "def appCount(string):\n",
    "    if 'None of the above' in string:\n",
    "        return 0\n",
    "    semicolons = string.count(';')\n",
    "    return semicolons + 1"
   ]
  },
  {
   "cell_type": "code",
   "execution_count": 9,
   "metadata": {},
   "outputs": [],
   "source": [
    "# Get app count per individual\n",
    "df['app count'] = df['app count'].apply(appCount)"
   ]
  },
  {
   "cell_type": "code",
   "execution_count": 10,
   "metadata": {},
   "outputs": [],
   "source": [
    "# Change hours per day to quantitative variable by taking average of range\n",
    "def hoursToInt(string):\n",
    "    if string in \"0-1\":\n",
    "        return 0.5\n",
    "    elif string == \"1-2\":\n",
    "        return 1.5\n",
    "    elif string == \"2-3\":\n",
    "        return 2.5\n",
    "    elif string == \"3-4\":\n",
    "        return 3.5\n",
    "    else:\n",
    "        return 4.5"
   ]
  },
  {
   "cell_type": "code",
   "execution_count": 11,
   "metadata": {},
   "outputs": [],
   "source": [
    "df['average hours'] = df['hours per day'].apply(hoursToInt)"
   ]
  },
  {
   "cell_type": "code",
   "execution_count": 12,
   "metadata": {},
   "outputs": [
    {
     "data": {
      "text/html": [
       "<div>\n",
       "<style scoped>\n",
       "    .dataframe tbody tr th:only-of-type {\n",
       "        vertical-align: middle;\n",
       "    }\n",
       "\n",
       "    .dataframe tbody tr th {\n",
       "        vertical-align: top;\n",
       "    }\n",
       "\n",
       "    .dataframe thead th {\n",
       "        text-align: right;\n",
       "    }\n",
       "</style>\n",
       "<table border=\"1\" class=\"dataframe\">\n",
       "  <thead>\n",
       "    <tr style=\"text-align: right;\">\n",
       "      <th></th>\n",
       "      <th>gender</th>\n",
       "      <th>age</th>\n",
       "      <th>use social media</th>\n",
       "      <th>hours per day</th>\n",
       "      <th>days per week</th>\n",
       "      <th>check morning</th>\n",
       "      <th>check night</th>\n",
       "      <th>app count</th>\n",
       "      <th>start using</th>\n",
       "      <th>impact</th>\n",
       "      <th>suicidal thoughts</th>\n",
       "      <th>SM contributed</th>\n",
       "      <th>Depression</th>\n",
       "      <th>Anxiety</th>\n",
       "      <th>average hours</th>\n",
       "    </tr>\n",
       "  </thead>\n",
       "  <tbody>\n",
       "    <tr>\n",
       "      <th>0</th>\n",
       "      <td>Female</td>\n",
       "      <td>22</td>\n",
       "      <td>True</td>\n",
       "      <td>2-3</td>\n",
       "      <td>3-5</td>\n",
       "      <td>True</td>\n",
       "      <td>False</td>\n",
       "      <td>2</td>\n",
       "      <td>Middle School</td>\n",
       "      <td>6</td>\n",
       "      <td>True</td>\n",
       "      <td>Maybe</td>\n",
       "      <td>True</td>\n",
       "      <td>True</td>\n",
       "      <td>2.5</td>\n",
       "    </tr>\n",
       "    <tr>\n",
       "      <th>1</th>\n",
       "      <td>Female</td>\n",
       "      <td>22</td>\n",
       "      <td>True</td>\n",
       "      <td>1-2</td>\n",
       "      <td>7</td>\n",
       "      <td>False</td>\n",
       "      <td>True</td>\n",
       "      <td>4</td>\n",
       "      <td>High School</td>\n",
       "      <td>7</td>\n",
       "      <td>False</td>\n",
       "      <td>Maybe</td>\n",
       "      <td>True</td>\n",
       "      <td>True</td>\n",
       "      <td>1.5</td>\n",
       "    </tr>\n",
       "    <tr>\n",
       "      <th>2</th>\n",
       "      <td>Female</td>\n",
       "      <td>21</td>\n",
       "      <td>True</td>\n",
       "      <td>4+</td>\n",
       "      <td>7</td>\n",
       "      <td>True</td>\n",
       "      <td>True</td>\n",
       "      <td>4</td>\n",
       "      <td>Elementary School</td>\n",
       "      <td>5</td>\n",
       "      <td>False</td>\n",
       "      <td>True</td>\n",
       "      <td>True</td>\n",
       "      <td>False</td>\n",
       "      <td>4.5</td>\n",
       "    </tr>\n",
       "    <tr>\n",
       "      <th>3</th>\n",
       "      <td>Female</td>\n",
       "      <td>19</td>\n",
       "      <td>True</td>\n",
       "      <td>4+</td>\n",
       "      <td>3-5</td>\n",
       "      <td>True</td>\n",
       "      <td>True</td>\n",
       "      <td>4</td>\n",
       "      <td>Elementary School</td>\n",
       "      <td>3</td>\n",
       "      <td>True</td>\n",
       "      <td>True</td>\n",
       "      <td>True</td>\n",
       "      <td>True</td>\n",
       "      <td>4.5</td>\n",
       "    </tr>\n",
       "    <tr>\n",
       "      <th>4</th>\n",
       "      <td>Female</td>\n",
       "      <td>21</td>\n",
       "      <td>True</td>\n",
       "      <td>2-3</td>\n",
       "      <td>7</td>\n",
       "      <td>True</td>\n",
       "      <td>True</td>\n",
       "      <td>2</td>\n",
       "      <td>High School</td>\n",
       "      <td>4</td>\n",
       "      <td>False</td>\n",
       "      <td>True</td>\n",
       "      <td>False</td>\n",
       "      <td>False</td>\n",
       "      <td>2.5</td>\n",
       "    </tr>\n",
       "    <tr>\n",
       "      <th>...</th>\n",
       "      <td>...</td>\n",
       "      <td>...</td>\n",
       "      <td>...</td>\n",
       "      <td>...</td>\n",
       "      <td>...</td>\n",
       "      <td>...</td>\n",
       "      <td>...</td>\n",
       "      <td>...</td>\n",
       "      <td>...</td>\n",
       "      <td>...</td>\n",
       "      <td>...</td>\n",
       "      <td>...</td>\n",
       "      <td>...</td>\n",
       "      <td>...</td>\n",
       "      <td>...</td>\n",
       "    </tr>\n",
       "    <tr>\n",
       "      <th>177</th>\n",
       "      <td>Male</td>\n",
       "      <td>24</td>\n",
       "      <td>True</td>\n",
       "      <td>3-4</td>\n",
       "      <td>7</td>\n",
       "      <td>True</td>\n",
       "      <td>True</td>\n",
       "      <td>1</td>\n",
       "      <td>Middle School</td>\n",
       "      <td>4</td>\n",
       "      <td>True</td>\n",
       "      <td>Maybe</td>\n",
       "      <td>True</td>\n",
       "      <td>True</td>\n",
       "      <td>3.5</td>\n",
       "    </tr>\n",
       "    <tr>\n",
       "      <th>178</th>\n",
       "      <td>Male</td>\n",
       "      <td>20</td>\n",
       "      <td>True</td>\n",
       "      <td>2-3</td>\n",
       "      <td>7</td>\n",
       "      <td>True</td>\n",
       "      <td>True</td>\n",
       "      <td>4</td>\n",
       "      <td>High School</td>\n",
       "      <td>5</td>\n",
       "      <td>False</td>\n",
       "      <td>False</td>\n",
       "      <td>False</td>\n",
       "      <td>False</td>\n",
       "      <td>2.5</td>\n",
       "    </tr>\n",
       "    <tr>\n",
       "      <th>179</th>\n",
       "      <td>Male</td>\n",
       "      <td>23</td>\n",
       "      <td>True</td>\n",
       "      <td>1-2</td>\n",
       "      <td>7</td>\n",
       "      <td>True</td>\n",
       "      <td>False</td>\n",
       "      <td>0</td>\n",
       "      <td>High School</td>\n",
       "      <td>3</td>\n",
       "      <td>False</td>\n",
       "      <td>True</td>\n",
       "      <td>False</td>\n",
       "      <td>False</td>\n",
       "      <td>1.5</td>\n",
       "    </tr>\n",
       "    <tr>\n",
       "      <th>180</th>\n",
       "      <td>Male</td>\n",
       "      <td>19</td>\n",
       "      <td>True</td>\n",
       "      <td>1-2</td>\n",
       "      <td>NaN</td>\n",
       "      <td>False</td>\n",
       "      <td>True</td>\n",
       "      <td>1</td>\n",
       "      <td>High School</td>\n",
       "      <td>5</td>\n",
       "      <td>True</td>\n",
       "      <td>False</td>\n",
       "      <td>False</td>\n",
       "      <td>False</td>\n",
       "      <td>1.5</td>\n",
       "    </tr>\n",
       "    <tr>\n",
       "      <th>181</th>\n",
       "      <td>Male</td>\n",
       "      <td>16</td>\n",
       "      <td>True</td>\n",
       "      <td>1-2</td>\n",
       "      <td>7</td>\n",
       "      <td>True</td>\n",
       "      <td>True</td>\n",
       "      <td>1</td>\n",
       "      <td>Middle School</td>\n",
       "      <td>5</td>\n",
       "      <td>True</td>\n",
       "      <td>Maybe</td>\n",
       "      <td>False</td>\n",
       "      <td>False</td>\n",
       "      <td>1.5</td>\n",
       "    </tr>\n",
       "  </tbody>\n",
       "</table>\n",
       "<p>180 rows × 15 columns</p>\n",
       "</div>"
      ],
      "text/plain": [
       "     gender  age  use social media hours per day days per week check morning  \\\n",
       "0    Female   22              True           2-3           3-5          True   \n",
       "1    Female   22              True           1-2             7         False   \n",
       "2    Female   21              True            4+             7          True   \n",
       "3    Female   19              True            4+           3-5          True   \n",
       "4    Female   21              True           2-3             7          True   \n",
       "..      ...  ...               ...           ...           ...           ...   \n",
       "177    Male   24              True           3-4             7          True   \n",
       "178    Male   20              True           2-3             7          True   \n",
       "179    Male   23              True           1-2             7          True   \n",
       "180    Male   19              True           1-2           NaN         False   \n",
       "181    Male   16              True           1-2             7          True   \n",
       "\n",
       "    check night  app count        start using  impact suicidal thoughts  \\\n",
       "0         False          2      Middle School       6              True   \n",
       "1          True          4        High School       7             False   \n",
       "2          True          4  Elementary School       5             False   \n",
       "3          True          4  Elementary School       3              True   \n",
       "4          True          2        High School       4             False   \n",
       "..          ...        ...                ...     ...               ...   \n",
       "177        True          1      Middle School       4              True   \n",
       "178        True          4        High School       5             False   \n",
       "179       False          0        High School       3             False   \n",
       "180        True          1        High School       5              True   \n",
       "181        True          1      Middle School       5              True   \n",
       "\n",
       "    SM contributed  Depression  Anxiety  average hours  \n",
       "0            Maybe        True     True            2.5  \n",
       "1            Maybe        True     True            1.5  \n",
       "2             True        True    False            4.5  \n",
       "3             True        True     True            4.5  \n",
       "4             True       False    False            2.5  \n",
       "..             ...         ...      ...            ...  \n",
       "177          Maybe        True     True            3.5  \n",
       "178          False       False    False            2.5  \n",
       "179           True       False    False            1.5  \n",
       "180          False       False    False            1.5  \n",
       "181          Maybe       False    False            1.5  \n",
       "\n",
       "[180 rows x 15 columns]"
      ]
     },
     "execution_count": 12,
     "metadata": {},
     "output_type": "execute_result"
    }
   ],
   "source": [
    "df"
   ]
  },
  {
   "cell_type": "code",
   "execution_count": 13,
   "metadata": {},
   "outputs": [
    {
     "data": {
      "text/plain": [
       "Male      97\n",
       "Female    73\n",
       "Other     10\n",
       "Name: gender, dtype: int64"
      ]
     },
     "execution_count": 13,
     "metadata": {},
     "output_type": "execute_result"
    }
   ],
   "source": [
    "df['gender'].value_counts()"
   ]
  },
  {
   "cell_type": "markdown",
   "metadata": {},
   "source": [
    "# Data Analysis & Results"
   ]
  },
  {
   "cell_type": "code",
   "execution_count": 14,
   "metadata": {},
   "outputs": [
    {
     "data": {
      "text/plain": [
       "<matplotlib.axes._subplots.AxesSubplot at 0x7fa300b43710>"
      ]
     },
     "execution_count": 14,
     "metadata": {},
     "output_type": "execute_result"
    },
    {
     "data": {
      "image/png": "[encoded data removed]",
      "text/plain": [
       "<Figure size 432x288 with 1 Axes>"
      ]
     },
     "metadata": {
      "needs_background": "light"
     },
     "output_type": "display_data"
    }
   ],
   "source": [
    "sns.countplot(x='age', data=df)"
   ]
  },
  {
   "cell_type": "markdown",
   "metadata": {},
   "source": [
    "The graph above is a count of ages of respondents of our survey. We tried to target mainly young adults, since our research focuses on individuals who grew up or are growing up with social media applications."
   ]
  },
  {
   "cell_type": "code",
   "execution_count": 15,
   "metadata": {},
   "outputs": [
    {
     "data": {
      "image/png": "[encoded data removed]",
      "text/plain": [
       "<Figure size 432x288 with 1 Axes>"
      ]
     },
     "metadata": {
      "needs_background": "light"
     },
     "output_type": "display_data"
    }
   ],
   "source": [
    "sns.histplot(df['app count'], bins=7, kde=True);"
   ]
  },
  {
   "cell_type": "markdown",
   "metadata": {},
   "source": [
    "The histogram above illustrates that the majority of our respondents use between 2 to 4 of the top social media applications we listed (Facebook, Instagram, Snapchat, Twitter, TikTok and Reddit) regularly."
   ]
  },
  {
   "cell_type": "code",
   "execution_count": 16,
   "metadata": {},
   "outputs": [
    {
     "data": {
      "image/png": "[encoded data removed]",
      "text/plain": [
       "<Figure size 864x432 with 1 Axes>"
      ]
     },
     "metadata": {
      "needs_background": "light"
     },
     "output_type": "display_data"
    }
   ],
   "source": [
    "# Jitter points to see relationship between quantitative variables\n",
    "sns.lmplot(x='app count', y='impact', data=df, \n",
    "           fit_reg=False, height=6, aspect=2, \n",
    "           x_jitter=.5, y_jitter=.5);"
   ]
  },
  {
   "cell_type": "code",
   "execution_count": 17,
   "metadata": {},
   "outputs": [
    {
     "data": {
      "text/plain": [
       "array([[ 1.        , -0.00387835],\n",
       "       [-0.00387835,  1.        ]])"
      ]
     },
     "execution_count": 17,
     "metadata": {},
     "output_type": "execute_result"
    }
   ],
   "source": [
    "x = df['app count']\n",
    "y = df['impact']\n",
    "np.corrcoef(x, y)"
   ]
  },
  {
   "cell_type": "markdown",
   "metadata": {},
   "source": [
    "The pearson correlation of -0.0039 indicates that the amount of social media applications an individual uses has a miniscule negative correlation to the positive/negative impact of social media on their mental health. This is likely due to the amount of neutral (5) responses we received for impact. This minimal correlation can be visualized through the scatterplot above, which shows little to no relationship between App Count and Impact of social media."
   ]
  },
  {
   "cell_type": "code",
   "execution_count": 18,
   "metadata": {},
   "outputs": [
    {
     "name": "stdout",
     "output_type": "stream",
     "text": [
      "                            OLS Regression Results                            \n",
      "==============================================================================\n",
      "Dep. Variable:                      y   R-squared:                       0.000\n",
      "Model:                            OLS   Adj. R-squared:                 -0.006\n",
      "Method:                 Least Squares   F-statistic:                  0.002677\n",
      "Date:                Thu, 11 Mar 2021   Prob (F-statistic):              0.959\n",
      "Time:                        14:42:39   Log-Likelihood:                -353.51\n",
      "No. Observations:                 180   AIC:                             711.0\n",
      "Df Residuals:                     178   BIC:                             717.4\n",
      "Df Model:                           1                                         \n",
      "Covariance Type:            nonrobust                                         \n",
      "==============================================================================\n",
      "                 coef    std err          t      P>|t|      [0.025      0.975]\n",
      "------------------------------------------------------------------------------\n",
      "Intercept      5.3085      0.301     17.643      0.000       4.715       5.902\n",
      "x             -0.0049      0.095     -0.052      0.959      -0.192       0.182\n",
      "==============================================================================\n",
      "Omnibus:                        4.139   Durbin-Watson:                   2.025\n",
      "Prob(Omnibus):                  0.126   Jarque-Bera (JB):                4.216\n",
      "Skew:                           0.357   Prob(JB):                        0.121\n",
      "Kurtosis:                       2.771   Cond. No.                         7.98\n",
      "==============================================================================\n",
      "\n",
      "Warnings:\n",
      "[1] Standard Errors assume that the covariance matrix of the errors is correctly specified.\n"
     ]
    }
   ],
   "source": [
    "outcome, predictors = patsy.dmatrices('y ~ x')\n",
    "mod = sm.OLS(outcome, predictors)\n",
    "res = mod.fit() \n",
    "print(res.summary())"
   ]
  },
  {
   "cell_type": "markdown",
   "metadata": {},
   "source": [
    "With a Beta 1 value of -.0049 this means that for every app count increase there is an expected -0.0049 increase in impact which means that for every app count increase (by 1 app) there is a very slight increase in the negative impact that it has on a users' mental health. The p' value of 0.959 means that we cannot reject the null hypothesis between app count and impact."
   ]
  },
  {
   "cell_type": "code",
   "execution_count": 19,
   "metadata": {},
   "outputs": [
    {
     "data": {
      "image/png": "[encoded data removed]",
      "text/plain": [
       "<Figure size 864x432 with 1 Axes>"
      ]
     },
     "metadata": {
      "needs_background": "light"
     },
     "output_type": "display_data"
    }
   ],
   "source": [
    "# Jitter points to see relationship between quantitative variables\n",
    "ax = sns.lmplot(x='average hours', y='impact', data=df, \n",
    "           fit_reg=False, height=6, aspect=2, \n",
    "           x_jitter=.5, y_jitter=.5);"
   ]
  },
  {
   "cell_type": "code",
   "execution_count": 20,
   "metadata": {},
   "outputs": [
    {
     "data": {
      "text/plain": [
       "array([[1.        , 0.04304714],\n",
       "       [0.04304714, 1.        ]])"
      ]
     },
     "execution_count": 20,
     "metadata": {},
     "output_type": "execute_result"
    }
   ],
   "source": [
    "x = df['average hours']\n",
    "y = df['impact']\n",
    "np.corrcoef(x, y)"
   ]
  },
  {
   "cell_type": "code",
   "execution_count": 21,
   "metadata": {},
   "outputs": [
    {
     "name": "stdout",
     "output_type": "stream",
     "text": [
      "                            OLS Regression Results                            \n",
      "==============================================================================\n",
      "Dep. Variable:                      y   R-squared:                       0.002\n",
      "Model:                            OLS   Adj. R-squared:                 -0.004\n",
      "Method:                 Least Squares   F-statistic:                    0.3305\n",
      "Date:                Thu, 11 Mar 2021   Prob (F-statistic):              0.566\n",
      "Time:                        14:42:39   Log-Likelihood:                -353.35\n",
      "No. Observations:                 180   AIC:                             710.7\n",
      "Df Residuals:                     178   BIC:                             717.1\n",
      "Df Model:                           1                                         \n",
      "Covariance Type:            nonrobust                                         \n",
      "==============================================================================\n",
      "                 coef    std err          t      P>|t|      [0.025      0.975]\n",
      "------------------------------------------------------------------------------\n",
      "Intercept      5.1243      0.323     15.870      0.000       4.487       5.762\n",
      "x              0.0627      0.109      0.575      0.566      -0.153       0.278\n",
      "==============================================================================\n",
      "Omnibus:                        4.206   Durbin-Watson:                   2.023\n",
      "Prob(Omnibus):                  0.122   Jarque-Bera (JB):                4.286\n",
      "Skew:                           0.360   Prob(JB):                        0.117\n",
      "Kurtosis:                       2.769   Cond. No.                         8.12\n",
      "==============================================================================\n",
      "\n",
      "Warnings:\n",
      "[1] Standard Errors assume that the covariance matrix of the errors is correctly specified.\n"
     ]
    }
   ],
   "source": [
    "outcome, predictors = patsy.dmatrices('y ~ x')\n",
    "mod = sm.OLS(outcome, predictors)\n",
    "res = mod.fit() \n",
    "print(res.summary())"
   ]
  },
  {
   "cell_type": "markdown",
   "metadata": {},
   "source": [
    "From the Beta 1 value we can see that a 1 unit increase in average hours leads to a .0627 unit increase in impact which means that in our data we gathered there is a small positive correlation between average hours spent on social media and a positive impact on mental health. However due to the high p-value of .566 there is not enough of a correlation to reject the null hypothesis once again. "
   ]
  },
  {
   "cell_type": "code",
   "execution_count": 22,
   "metadata": {},
   "outputs": [
    {
     "data": {
      "text/html": [
       "<div>\n",
       "<style scoped>\n",
       "    .dataframe tbody tr th:only-of-type {\n",
       "        vertical-align: middle;\n",
       "    }\n",
       "\n",
       "    .dataframe tbody tr th {\n",
       "        vertical-align: top;\n",
       "    }\n",
       "\n",
       "    .dataframe thead th {\n",
       "        text-align: right;\n",
       "    }\n",
       "</style>\n",
       "<table border=\"1\" class=\"dataframe\">\n",
       "  <thead>\n",
       "    <tr style=\"text-align: right;\">\n",
       "      <th></th>\n",
       "      <th>age</th>\n",
       "      <th>use social media</th>\n",
       "      <th>app count</th>\n",
       "      <th>impact</th>\n",
       "      <th>Depression</th>\n",
       "      <th>Anxiety</th>\n",
       "      <th>average hours</th>\n",
       "    </tr>\n",
       "  </thead>\n",
       "  <tbody>\n",
       "    <tr>\n",
       "      <th>age</th>\n",
       "      <td>1.000000</td>\n",
       "      <td>0.102915</td>\n",
       "      <td>0.181497</td>\n",
       "      <td>-0.159554</td>\n",
       "      <td>0.159373</td>\n",
       "      <td>0.017655</td>\n",
       "      <td>-0.076622</td>\n",
       "    </tr>\n",
       "    <tr>\n",
       "      <th>use social media</th>\n",
       "      <td>0.102915</td>\n",
       "      <td>1.000000</td>\n",
       "      <td>0.157101</td>\n",
       "      <td>-0.073916</td>\n",
       "      <td>0.060324</td>\n",
       "      <td>-0.086446</td>\n",
       "      <td>0.139682</td>\n",
       "    </tr>\n",
       "    <tr>\n",
       "      <th>app count</th>\n",
       "      <td>0.181497</td>\n",
       "      <td>0.157101</td>\n",
       "      <td>1.000000</td>\n",
       "      <td>-0.003878</td>\n",
       "      <td>0.199259</td>\n",
       "      <td>0.137714</td>\n",
       "      <td>0.214826</td>\n",
       "    </tr>\n",
       "    <tr>\n",
       "      <th>impact</th>\n",
       "      <td>-0.159554</td>\n",
       "      <td>-0.073916</td>\n",
       "      <td>-0.003878</td>\n",
       "      <td>1.000000</td>\n",
       "      <td>-0.078471</td>\n",
       "      <td>-0.115061</td>\n",
       "      <td>0.043047</td>\n",
       "    </tr>\n",
       "    <tr>\n",
       "      <th>Depression</th>\n",
       "      <td>0.159373</td>\n",
       "      <td>0.060324</td>\n",
       "      <td>0.199259</td>\n",
       "      <td>-0.078471</td>\n",
       "      <td>1.000000</td>\n",
       "      <td>0.427984</td>\n",
       "      <td>0.163435</td>\n",
       "    </tr>\n",
       "    <tr>\n",
       "      <th>Anxiety</th>\n",
       "      <td>0.017655</td>\n",
       "      <td>-0.086446</td>\n",
       "      <td>0.137714</td>\n",
       "      <td>-0.115061</td>\n",
       "      <td>0.427984</td>\n",
       "      <td>1.000000</td>\n",
       "      <td>0.206367</td>\n",
       "    </tr>\n",
       "    <tr>\n",
       "      <th>average hours</th>\n",
       "      <td>-0.076622</td>\n",
       "      <td>0.139682</td>\n",
       "      <td>0.214826</td>\n",
       "      <td>0.043047</td>\n",
       "      <td>0.163435</td>\n",
       "      <td>0.206367</td>\n",
       "      <td>1.000000</td>\n",
       "    </tr>\n",
       "  </tbody>\n",
       "</table>\n",
       "</div>"
      ],
      "text/plain": [
       "                       age  use social media  app count    impact  Depression  \\\n",
       "age               1.000000          0.102915   0.181497 -0.159554    0.159373   \n",
       "use social media  0.102915          1.000000   0.157101 -0.073916    0.060324   \n",
       "app count         0.181497          0.157101   1.000000 -0.003878    0.199259   \n",
       "impact           -0.159554         -0.073916  -0.003878  1.000000   -0.078471   \n",
       "Depression        0.159373          0.060324   0.199259 -0.078471    1.000000   \n",
       "Anxiety           0.017655         -0.086446   0.137714 -0.115061    0.427984   \n",
       "average hours    -0.076622          0.139682   0.214826  0.043047    0.163435   \n",
       "\n",
       "                   Anxiety  average hours  \n",
       "age               0.017655      -0.076622  \n",
       "use social media -0.086446       0.139682  \n",
       "app count         0.137714       0.214826  \n",
       "impact           -0.115061       0.043047  \n",
       "Depression        0.427984       0.163435  \n",
       "Anxiety           1.000000       0.206367  \n",
       "average hours     0.206367       1.000000  "
      ]
     },
     "execution_count": 22,
     "metadata": {},
     "output_type": "execute_result"
    }
   ],
   "source": [
    "df.corr()"
   ]
  },
  {
   "cell_type": "markdown",
   "metadata": {},
   "source": [
    "The table above shows the Pearson corrleation values between each variable in our dataframe.\n",
    "\n",
    "The r value of app count and Depression is 0.199259, which means that there is a slight positive correlation between these two. The higher the app count, the more likely an individual is to have Depression. Similarly, the r value for app count and Anxiety is 0.137714. Although this value is slightly lower, there is still a small positive correlation between these two. The highter the app count, the more likely an individual is to have Anxiety.\n",
    "\n",
    "The r value of average hours and Depression is 0.163435, which again tells us that there is a positive correlation. Average hours and Anxiety follows the same correlation but is slightly higher at 0.206367. From these values, we can conclude that the more hours an individual uses social media on a daily basis, the more likely they are to have Depression and Anxiety."
   ]
  },
  {
   "cell_type": "code",
   "execution_count": 23,
   "metadata": {
    "scrolled": true
   },
   "outputs": [
    {
     "data": {
      "text/plain": [
       "Text(0.5, 1.0, 'Average Hours Spent on Social Media and Depression')"
      ]
     },
     "execution_count": 23,
     "metadata": {},
     "output_type": "execute_result"
    },
    {
     "data": {
      "image/png": "[encoded data removed]",
      "text/plain": [
       "<Figure size 504x288 with 1 Axes>"
      ]
     },
     "metadata": {
      "needs_background": "light"
     },
     "output_type": "display_data"
    }
   ],
   "source": [
    "plt.figure(figsize=(7, 4))\n",
    "ax = sns.boxplot(x='Depression', y='average hours', order=[True, False], data=df, palette='Set2')\n",
    "ax.set_ylabel(\"Average Hours\")\n",
    "ax.set_title(\"Average Hours Spent on Social Media and Depression\")"
   ]
  },
  {
   "cell_type": "markdown",
   "metadata": {},
   "source": [
    "The boxplot above compares the distribution of the average hours an individual spends on social media between those who have Depression and those who do not. It shows us that the first quartile and the minimum of the set of respondents who have Depression is higher than that of those who don't, which can potentially indicate that the more average hours one spends on social media, the more likely they are to have Depression."
   ]
  },
  {
   "cell_type": "code",
   "execution_count": 24,
   "metadata": {},
   "outputs": [
    {
     "data": {
      "image/png": "[encoded data removed]",
      "text/plain": [
       "<Figure size 720x324 with 2 Axes>"
      ]
     },
     "metadata": {
      "needs_background": "light"
     },
     "output_type": "display_data"
    }
   ],
   "source": [
    "fig, ax = plt.subplots(1,2,sharey=True,figsize=(10,4.5))\n",
    "ax1 = sns.countplot(x='SM contributed', data=df[df['Depression'] == True], ax=ax[0], order=[True, False, 'Maybe'], palette='Set2')\n",
    "ax1.set_title('Social Media Contribution to Depression')\n",
    "ax1.set_ylabel('Count')\n",
    "ax1.set_xlabel('Social Media Contributed')\n",
    "ax2 = sns.countplot(x='SM contributed', data=df[df['Anxiety'] == True], ax=ax[1], order=[True, False, 'Maybe'], palette='Set2')\n",
    "ax2.set_title('Social Media Contribution to Anxiety')\n",
    "ax2.set_ylabel('Count')\n",
    "ax2.set_xlabel('Social Media Contributed')\n",
    "\n",
    "fig.tight_layout()\n",
    "plt.subplots_adjust(wspace=0.3)"
   ]
  },
  {
   "cell_type": "markdown",
   "metadata": {},
   "source": [
    "The plots above demonstrate the count of people who have Depression/Anxiety and claimed that social media did, did not, or maybe did contribute to those mental health issues. Although many of the responses were Maybes, more people answered that they did feel social media contributed to their mental health issues, especially those with Anxiety."
   ]
  },
  {
   "cell_type": "code",
   "execution_count": 25,
   "metadata": {},
   "outputs": [
    {
     "data": {
      "image/png": "[encoded data removed]",
      "text/plain": [
       "<Figure size 1008x288 with 2 Axes>"
      ]
     },
     "metadata": {
      "needs_background": "light"
     },
     "output_type": "display_data"
    }
   ],
   "source": [
    "# 'Accent',\n",
    "# 'Paired', 'Pastel2'\n",
    "# 'Set2','YlGnBu_r',\n",
    "# 'crest_r', 'gist_ncar','icefire','mako'\n",
    "fig, ax = plt.subplots(1,2,figsize=(14,4))\n",
    "\n",
    "df2 = df.groupby(['Depression','app count'])['Depression'].count().unstack('app count').fillna(0)\n",
    "sub_df2 = np.transpose(df2.div(df2.sum()))\n",
    "columns_titles = [True,False]\n",
    "sub_df2 = sub_df2.reindex(columns=columns_titles)\n",
    "\n",
    "# generate plot\n",
    "ax1 = sub_df2.plot(kind='bar', stacked=True, rot=0, animated=True, colormap='tab20c',\n",
    "                  title='Depression Increases Along With App Count', ax=ax[0])\n",
    "\n",
    "# customize plot\n",
    "ax1.legend(('Has Depression','Does not have\\nDepression'), loc='best', bbox_to_anchor=(1.0, 0.5))\n",
    "ax1.set_ylabel(\"Proportion of Respondents\");\n",
    "ax1.set_xlabel(\"App Count\")\n",
    "\n",
    "df2 = df.groupby([ 'Anxiety','app count'])['Anxiety'].count().unstack('app count').fillna(0)\n",
    "sub_df2 = np.transpose(df2.div(df2.sum()))\n",
    "columns_titles = [True,False]\n",
    "sub_df2 = sub_df2.reindex(columns=columns_titles)\n",
    "\n",
    "# generate plot\n",
    "ax2 = sub_df2.plot(kind='bar', stacked=True, rot=0, colormap='Pastel1',\n",
    "                  title='Anxiety Mostly Increases With App Count', ax=ax[1])\n",
    "\n",
    "# customize plot\n",
    "ax2.legend(('Has Anxiety','Does not have\\nAnxiety'), loc='best', bbox_to_anchor=(1.0, 0.5))\n",
    "ax2.set_ylabel(\"Proportion of Respondents\");\n",
    "ax2.set_xlabel(\"App Count\")\n",
    "\n",
    "plt.subplots_adjust(wspace=0.7)"
   ]
  },
  {
   "cell_type": "markdown",
   "metadata": {},
   "source": [
    "The stacked barplots above illustrate the positive correlation that App Count has with Depression and Anxiety, respectively. They show that the groups of individuals who use more social media applications regularly have more cases of Depression and Anxiety. Although there are slight dips, there is an overall increasing trend."
   ]
  },
  {
   "cell_type": "code",
   "execution_count": 44,
   "metadata": {},
   "outputs": [
    {
     "data": {
      "image/png": "[encoded data removed]",
      "text/plain": [
       "<Figure size 1008x288 with 2 Axes>"
      ]
     },
     "metadata": {
      "needs_background": "light"
     },
     "output_type": "display_data"
    }
   ],
   "source": [
    "fig, ax = plt.subplots(1,2,figsize=(14,4))\n",
    "\n",
    "df2 = df.groupby(['Depression','hours per day'])['Depression'].count().unstack('hours per day').fillna(0)\n",
    "sub_df2 = np.transpose(df2.div(df2.sum()))\n",
    "columns_titles = [True,False]\n",
    "sub_df2 = sub_df2.reindex(columns=columns_titles)\n",
    "\n",
    "# generate plot\n",
    "ax1 = sub_df2.plot(kind='bar', stacked=True, rot=0, animated=True, colormap='tab20c',\n",
    "                  title='Depression Increases Along With Hours Per Day', ax=ax[0])\n",
    "\n",
    "# customize plot\n",
    "ax1.legend(('Has Depression','Does not have\\nDepression'), loc='best', bbox_to_anchor=(1.0, 0.5))\n",
    "ax1.set_ylabel(\"Proportion of Respondents\");\n",
    "ax1.set_xlabel(\"Hours Per Day\")\n",
    "\n",
    "df2 = df.groupby([ 'Anxiety','hours per day'])['Anxiety'].count().unstack('hours per day').fillna(0)\n",
    "sub_df2 = np.transpose(df2.div(df2.sum()))\n",
    "columns_titles = [True,False]\n",
    "sub_df2 = sub_df2.reindex(columns=columns_titles)\n",
    "\n",
    "# generate plot\n",
    "ax2 = sub_df2.plot(kind='bar', stacked=True, rot=0, colormap='Pastel1',\n",
    "                  title='Anxiety Mostly Increases With Hours Per Day', ax=ax[1])\n",
    "\n",
    "# customize plot\n",
    "ax2.legend(('Has Anxiety','Does not have\\nAnxiety'), loc='best', bbox_to_anchor=(1.0, 0.5))\n",
    "ax2.set_ylabel(\"Proportion of Respondents\");\n",
    "ax2.set_xlabel(\"Hours Per Day\")\n",
    "\n",
    "plt.subplots_adjust(wspace=0.7)"
   ]
  },
  {
   "cell_type": "markdown",
   "metadata": {},
   "source": [
    "The visuals above demonstrate the correlation between the hours an individual uses social media per day and the proportion of those respondents who have Depression or Anxiety, respectively. The left plot shows a positive trend bwteen Depression and Hours Per Day, indicating that those groups that use social media for more hours daily experience more Depression than those who do not. The graph on the right has a few peaks along the way, but demonstrates a similar idea since those with more daily hours have more Anxiety than those with less, with the exception of the 0-1 group. In both graphs we can see a peak in the 3-4 hours, which indicates that those individuals who use social media for that amount of time daily tend to have higher levels of Depression and Anxiety."
   ]
  },
  {
   "cell_type": "markdown",
   "metadata": {},
   "source": [
    "The following cells will perform Logistic Regression on the app count/average hours variables with Depression/Anxiety outcomes."
   ]
  },
  {
   "cell_type": "code",
   "execution_count": 27,
   "metadata": {},
   "outputs": [
    {
     "data": {
      "text/html": [
       "<div>\n",
       "<style scoped>\n",
       "    .dataframe tbody tr th:only-of-type {\n",
       "        vertical-align: middle;\n",
       "    }\n",
       "\n",
       "    .dataframe tbody tr th {\n",
       "        vertical-align: top;\n",
       "    }\n",
       "\n",
       "    .dataframe thead th {\n",
       "        text-align: right;\n",
       "    }\n",
       "</style>\n",
       "<table border=\"1\" class=\"dataframe\">\n",
       "  <thead>\n",
       "    <tr style=\"text-align: right;\">\n",
       "      <th></th>\n",
       "      <th>gender</th>\n",
       "      <th>age</th>\n",
       "      <th>use social media</th>\n",
       "      <th>hours per day</th>\n",
       "      <th>days per week</th>\n",
       "      <th>check morning</th>\n",
       "      <th>check night</th>\n",
       "      <th>app count</th>\n",
       "      <th>start using</th>\n",
       "      <th>impact</th>\n",
       "      <th>suicidal thoughts</th>\n",
       "      <th>SM contributed</th>\n",
       "      <th>Depression</th>\n",
       "      <th>Anxiety</th>\n",
       "      <th>average hours</th>\n",
       "    </tr>\n",
       "  </thead>\n",
       "  <tbody>\n",
       "    <tr>\n",
       "      <th>0</th>\n",
       "      <td>Female</td>\n",
       "      <td>22</td>\n",
       "      <td>True</td>\n",
       "      <td>2-3</td>\n",
       "      <td>3-5</td>\n",
       "      <td>True</td>\n",
       "      <td>False</td>\n",
       "      <td>2</td>\n",
       "      <td>Middle School</td>\n",
       "      <td>6</td>\n",
       "      <td>True</td>\n",
       "      <td>Maybe</td>\n",
       "      <td>True</td>\n",
       "      <td>True</td>\n",
       "      <td>2.5</td>\n",
       "    </tr>\n",
       "    <tr>\n",
       "      <th>1</th>\n",
       "      <td>Female</td>\n",
       "      <td>22</td>\n",
       "      <td>True</td>\n",
       "      <td>1-2</td>\n",
       "      <td>7</td>\n",
       "      <td>False</td>\n",
       "      <td>True</td>\n",
       "      <td>4</td>\n",
       "      <td>High School</td>\n",
       "      <td>7</td>\n",
       "      <td>False</td>\n",
       "      <td>Maybe</td>\n",
       "      <td>True</td>\n",
       "      <td>True</td>\n",
       "      <td>1.5</td>\n",
       "    </tr>\n",
       "    <tr>\n",
       "      <th>2</th>\n",
       "      <td>Female</td>\n",
       "      <td>21</td>\n",
       "      <td>True</td>\n",
       "      <td>4+</td>\n",
       "      <td>7</td>\n",
       "      <td>True</td>\n",
       "      <td>True</td>\n",
       "      <td>4</td>\n",
       "      <td>Elementary School</td>\n",
       "      <td>5</td>\n",
       "      <td>False</td>\n",
       "      <td>True</td>\n",
       "      <td>True</td>\n",
       "      <td>False</td>\n",
       "      <td>4.5</td>\n",
       "    </tr>\n",
       "    <tr>\n",
       "      <th>3</th>\n",
       "      <td>Female</td>\n",
       "      <td>19</td>\n",
       "      <td>True</td>\n",
       "      <td>4+</td>\n",
       "      <td>3-5</td>\n",
       "      <td>True</td>\n",
       "      <td>True</td>\n",
       "      <td>4</td>\n",
       "      <td>Elementary School</td>\n",
       "      <td>3</td>\n",
       "      <td>True</td>\n",
       "      <td>True</td>\n",
       "      <td>True</td>\n",
       "      <td>True</td>\n",
       "      <td>4.5</td>\n",
       "    </tr>\n",
       "    <tr>\n",
       "      <th>4</th>\n",
       "      <td>Female</td>\n",
       "      <td>21</td>\n",
       "      <td>True</td>\n",
       "      <td>2-3</td>\n",
       "      <td>7</td>\n",
       "      <td>True</td>\n",
       "      <td>True</td>\n",
       "      <td>2</td>\n",
       "      <td>High School</td>\n",
       "      <td>4</td>\n",
       "      <td>False</td>\n",
       "      <td>True</td>\n",
       "      <td>False</td>\n",
       "      <td>False</td>\n",
       "      <td>2.5</td>\n",
       "    </tr>\n",
       "  </tbody>\n",
       "</table>\n",
       "</div>"
      ],
      "text/plain": [
       "   gender  age  use social media hours per day days per week check morning  \\\n",
       "0  Female   22              True           2-3           3-5          True   \n",
       "1  Female   22              True           1-2             7         False   \n",
       "2  Female   21              True            4+             7          True   \n",
       "3  Female   19              True            4+           3-5          True   \n",
       "4  Female   21              True           2-3             7          True   \n",
       "\n",
       "  check night  app count        start using  impact suicidal thoughts  \\\n",
       "0       False          2      Middle School       6              True   \n",
       "1        True          4        High School       7             False   \n",
       "2        True          4  Elementary School       5             False   \n",
       "3        True          4  Elementary School       3              True   \n",
       "4        True          2        High School       4             False   \n",
       "\n",
       "  SM contributed  Depression  Anxiety  average hours  \n",
       "0          Maybe        True     True            2.5  \n",
       "1          Maybe        True     True            1.5  \n",
       "2           True        True    False            4.5  \n",
       "3           True        True     True            4.5  \n",
       "4           True       False    False            2.5  "
      ]
     },
     "execution_count": 27,
     "metadata": {},
     "output_type": "execute_result"
    }
   ],
   "source": [
    "df.head()"
   ]
  },
  {
   "cell_type": "code",
   "execution_count": 28,
   "metadata": {},
   "outputs": [],
   "source": [
    "# Shuffle dataset\n",
    "df = df.sample(n=df.shape[0])\n",
    "df.reset_index(drop=True, inplace=True)\n",
    "\n",
    "# Only keep columns that we want to analyze in our model and convert categorical features (Not using 'start using'\n",
    "# because it results in a lower accuracy score for our models)\n",
    "gender = pd.get_dummies(df['gender'])\n",
    "\n",
    "df_apps_depression = df[['age', 'app count', 'Depression']]\n",
    "df_apps_depression = pd.concat([df_apps_depression,gender],axis=1)\n",
    "\n",
    "df_apps_anxiety = df[['age', 'app count', 'Anxiety']]\n",
    "df_apps_anxiety = pd.concat([df_apps_anxiety,gender],axis=1)\n",
    "\n",
    "df_hours_depression = df[['age', 'average hours', 'Depression']]\n",
    "df_hours_depression = pd.concat([df_hours_depression,gender],axis=1)\n",
    "\n",
    "df_hours_anxiety = df[['age', 'average hours', 'Anxiety']]\n",
    "df_hours_anxiety = pd.concat([df_hours_anxiety,gender],axis=1)"
   ]
  },
  {
   "cell_type": "code",
   "execution_count": 29,
   "metadata": {},
   "outputs": [],
   "source": [
    "# Split datasets into training/testing\n",
    "num_training = int(df.shape[0] * 0.8)\n",
    "num_testing = int(df.shape[0] * 0.2)\n",
    "\n",
    "train_X_apps_depression = df_apps_depression[:num_training].drop('Depression', axis=1)\n",
    "test_X_apps_depression = df_apps_depression[-num_testing:].drop('Depression', axis=1)\n",
    "train_y_apps_depression = df_apps_depression[:num_training]['Depression']\n",
    "test_y_apps_depression = df_apps_depression[-num_testing:]['Depression']\n",
    "\n",
    "train_X_apps_anxiety = df_apps_anxiety[:num_training].drop('Anxiety', axis=1)\n",
    "test_X_apps_anxiety = df_apps_anxiety[-num_testing:].drop('Anxiety', axis=1)\n",
    "train_y_apps_anxiety = df_apps_anxiety[:num_training]['Anxiety']\n",
    "test_y_apps_anxiety = df_apps_anxiety[-num_testing:]['Anxiety']\n",
    "\n",
    "train_X_hours_depression = df_hours_depression[:num_training].drop('Depression', axis=1)\n",
    "test_X_hours_depression = df_hours_depression[-num_testing:].drop('Depression', axis=1)\n",
    "train_y_hours_depression = df_hours_depression[:num_training]['Depression']\n",
    "test_y_hours_depression = df_hours_depression[-num_testing:]['Depression']\n",
    "\n",
    "train_X_hours_anxiety = df_hours_anxiety[:num_training].drop('Anxiety', axis=1)\n",
    "test_X_hours_anxiety = df_hours_anxiety[-num_testing:].drop('Anxiety', axis=1)\n",
    "train_y_hours_anxiety = df_hours_anxiety[:num_training]['Anxiety']\n",
    "test_y_hours_anxiety = df_hours_anxiety[-num_testing:]['Anxiety']"
   ]
  },
  {
   "cell_type": "code",
   "execution_count": 30,
   "metadata": {},
   "outputs": [],
   "source": [
    "# Fit training data on logistic regression models\n",
    "clf_apps_depression = LogisticRegression(max_iter=1000, fit_intercept=False).fit(train_X_apps_depression, train_y_apps_depression)\n",
    "clf_apps_anxiety = LogisticRegression(max_iter=1000, fit_intercept=False).fit(train_X_apps_anxiety, train_y_apps_anxiety)\n",
    "clf_hours_depression = LogisticRegression(max_iter=1000, fit_intercept=False).fit(train_X_hours_depression, train_y_hours_depression)\n",
    "clf_hours_anxiety = LogisticRegression(max_iter=1000, fit_intercept=False).fit(train_X_hours_anxiety, train_y_hours_anxiety)"
   ]
  },
  {
   "cell_type": "markdown",
   "metadata": {},
   "source": [
    "Here, we are training four models with data to get the overall influence of the features on the outcome. The features in this case being an individual's identity (age and gender), as well as either App Count or Average Hours, and the outcome being Depression or Anxiety, depending on the model."
   ]
  },
  {
   "cell_type": "code",
   "execution_count": 31,
   "metadata": {},
   "outputs": [
    {
     "name": "stdout",
     "output_type": "stream",
     "text": [
      "              precision    recall  f1-score   support\n",
      "\n",
      "       False       0.64      0.74      0.68        19\n",
      "        True       0.64      0.53      0.58        17\n",
      "\n",
      "    accuracy                           0.64        36\n",
      "   macro avg       0.64      0.63      0.63        36\n",
      "weighted avg       0.64      0.64      0.63        36\n",
      "\n"
     ]
    }
   ],
   "source": [
    "pred_apps_depression = clf_apps_depression.predict(test_X_apps_depression)\n",
    "print(classification_report(test_y_apps_depression,pred_apps_depression))"
   ]
  },
  {
   "cell_type": "code",
   "execution_count": 32,
   "metadata": {},
   "outputs": [
    {
     "name": "stdout",
     "output_type": "stream",
     "text": [
      "              precision    recall  f1-score   support\n",
      "\n",
      "       False       0.62      0.79      0.70        19\n",
      "        True       0.67      0.47      0.55        17\n",
      "\n",
      "    accuracy                           0.64        36\n",
      "   macro avg       0.65      0.63      0.62        36\n",
      "weighted avg       0.64      0.64      0.63        36\n",
      "\n"
     ]
    }
   ],
   "source": [
    "pred_hours_depression = clf_hours_depression.predict(test_X_hours_depression)\n",
    "print(classification_report(test_y_hours_depression,pred_hours_depression))"
   ]
  },
  {
   "cell_type": "code",
   "execution_count": 33,
   "metadata": {},
   "outputs": [
    {
     "name": "stdout",
     "output_type": "stream",
     "text": [
      "              precision    recall  f1-score   support\n",
      "\n",
      "       False       0.68      0.68      0.68        19\n",
      "        True       0.65      0.65      0.65        17\n",
      "\n",
      "    accuracy                           0.67        36\n",
      "   macro avg       0.67      0.67      0.67        36\n",
      "weighted avg       0.67      0.67      0.67        36\n",
      "\n"
     ]
    }
   ],
   "source": [
    "pred_apps_anxiety = clf_apps_anxiety.predict(test_X_apps_anxiety)\n",
    "print(classification_report(test_y_apps_depression,pred_apps_anxiety))"
   ]
  },
  {
   "cell_type": "code",
   "execution_count": 34,
   "metadata": {},
   "outputs": [
    {
     "name": "stdout",
     "output_type": "stream",
     "text": [
      "              precision    recall  f1-score   support\n",
      "\n",
      "       False       0.59      0.68      0.63        19\n",
      "        True       0.57      0.47      0.52        17\n",
      "\n",
      "    accuracy                           0.58        36\n",
      "   macro avg       0.58      0.58      0.58        36\n",
      "weighted avg       0.58      0.58      0.58        36\n",
      "\n"
     ]
    }
   ],
   "source": [
    "pred_hours_anxiety = clf_hours_anxiety.predict(test_X_hours_anxiety)\n",
    "print(classification_report(test_y_hours_depression,pred_hours_anxiety))"
   ]
  },
  {
   "cell_type": "markdown",
   "metadata": {},
   "source": [
    "The values above indicate that our Logistic Regression models were trained well enough to receive an average accuracy of about 0.70, which is pretty good considering the size of our training set."
   ]
  },
  {
   "cell_type": "code",
   "execution_count": 35,
   "metadata": {},
   "outputs": [
    {
     "data": {
      "text/html": [
       "<style  type=\"text/css\" >\n",
       "</style><table id=\"T_164ad094_82bb_11eb_8b6b_5a6bdff4e0f0\" ><caption>Feature Weights with App Count on Depression</caption><thead>    <tr>        <th class=\"blank level0\" ></th>        <th class=\"col_heading level0 col0\" >Weight</th>        <th class=\"col_heading level0 col1\" >Feature</th>    </tr></thead><tbody>\n",
       "                <tr>\n",
       "                        <th id=\"T_164ad094_82bb_11eb_8b6b_5a6bdff4e0f0level0_row0\" class=\"row_heading level0 row0\" >0</th>\n",
       "                        <td id=\"T_164ad094_82bb_11eb_8b6b_5a6bdff4e0f0row0_col0\" class=\"data row0 col0\" >-1.15466</td>\n",
       "                        <td id=\"T_164ad094_82bb_11eb_8b6b_5a6bdff4e0f0row0_col1\" class=\"data row0 col1\" >Male</td>\n",
       "            </tr>\n",
       "            <tr>\n",
       "                        <th id=\"T_164ad094_82bb_11eb_8b6b_5a6bdff4e0f0level0_row1\" class=\"row_heading level0 row1\" >1</th>\n",
       "                        <td id=\"T_164ad094_82bb_11eb_8b6b_5a6bdff4e0f0row1_col0\" class=\"data row1 col0\" >-0.238506</td>\n",
       "                        <td id=\"T_164ad094_82bb_11eb_8b6b_5a6bdff4e0f0row1_col1\" class=\"data row1 col1\" >Female</td>\n",
       "            </tr>\n",
       "            <tr>\n",
       "                        <th id=\"T_164ad094_82bb_11eb_8b6b_5a6bdff4e0f0level0_row2\" class=\"row_heading level0 row2\" >2</th>\n",
       "                        <td id=\"T_164ad094_82bb_11eb_8b6b_5a6bdff4e0f0row2_col0\" class=\"data row2 col0\" >-0.00920863</td>\n",
       "                        <td id=\"T_164ad094_82bb_11eb_8b6b_5a6bdff4e0f0row2_col1\" class=\"data row2 col1\" >age</td>\n",
       "            </tr>\n",
       "            <tr>\n",
       "                        <th id=\"T_164ad094_82bb_11eb_8b6b_5a6bdff4e0f0level0_row3\" class=\"row_heading level0 row3\" >3</th>\n",
       "                        <td id=\"T_164ad094_82bb_11eb_8b6b_5a6bdff4e0f0row3_col0\" class=\"data row3 col0\" >0.133929</td>\n",
       "                        <td id=\"T_164ad094_82bb_11eb_8b6b_5a6bdff4e0f0row3_col1\" class=\"data row3 col1\" >app count</td>\n",
       "            </tr>\n",
       "            <tr>\n",
       "                        <th id=\"T_164ad094_82bb_11eb_8b6b_5a6bdff4e0f0level0_row4\" class=\"row_heading level0 row4\" >4</th>\n",
       "                        <td id=\"T_164ad094_82bb_11eb_8b6b_5a6bdff4e0f0row4_col0\" class=\"data row4 col0\" >0.401094</td>\n",
       "                        <td id=\"T_164ad094_82bb_11eb_8b6b_5a6bdff4e0f0row4_col1\" class=\"data row4 col1\" >Other</td>\n",
       "            </tr>\n",
       "    </tbody></table>"
      ],
      "text/plain": [
       "<pandas.io.formats.style.Styler at 0x7fa3055f9c50>"
      ]
     },
     "execution_count": 35,
     "metadata": {},
     "output_type": "execute_result"
    }
   ],
   "source": [
    "# Feature importance (with app count) on Depression\n",
    "weights_app_depression = list(zip(clf_apps_depression.coef_.tolist()[0], ['age', 'app count'] + list(gender)))\n",
    "weights_app_depression.sort()\n",
    "weights_app_depression_df = pd.DataFrame(weights_app_depression, columns=['Weight', 'Feature'])\n",
    "weights_app_depression_df.style.set_caption(\"Feature Weights with App Count on Depression\")"
   ]
  },
  {
   "cell_type": "markdown",
   "metadata": {},
   "source": [
    "The DataFrame above describes all of the feature weights, including the individual's identity and their app count on the outcome of whether they have Depression or not. App Count has a positive weight, which indicates that as app count increases, the individual is more likely to have Depression."
   ]
  },
  {
   "cell_type": "code",
   "execution_count": 36,
   "metadata": {},
   "outputs": [
    {
     "data": {
      "text/html": [
       "<style  type=\"text/css\" >\n",
       "</style><table id=\"T_164ca5ea_82bb_11eb_8b6b_5a6bdff4e0f0\" ><caption>Feature Weights with Average Hours on Depression</caption><thead>    <tr>        <th class=\"blank level0\" ></th>        <th class=\"col_heading level0 col0\" >Weight</th>        <th class=\"col_heading level0 col1\" >Feature</th>    </tr></thead><tbody>\n",
       "                <tr>\n",
       "                        <th id=\"T_164ca5ea_82bb_11eb_8b6b_5a6bdff4e0f0level0_row0\" class=\"row_heading level0 row0\" >0</th>\n",
       "                        <td id=\"T_164ca5ea_82bb_11eb_8b6b_5a6bdff4e0f0row0_col0\" class=\"data row0 col0\" >-1.17925</td>\n",
       "                        <td id=\"T_164ca5ea_82bb_11eb_8b6b_5a6bdff4e0f0row0_col1\" class=\"data row0 col1\" >Male</td>\n",
       "            </tr>\n",
       "            <tr>\n",
       "                        <th id=\"T_164ca5ea_82bb_11eb_8b6b_5a6bdff4e0f0level0_row1\" class=\"row_heading level0 row1\" >1</th>\n",
       "                        <td id=\"T_164ca5ea_82bb_11eb_8b6b_5a6bdff4e0f0row1_col0\" class=\"data row1 col0\" >-0.25402</td>\n",
       "                        <td id=\"T_164ca5ea_82bb_11eb_8b6b_5a6bdff4e0f0row1_col1\" class=\"data row1 col1\" >Female</td>\n",
       "            </tr>\n",
       "            <tr>\n",
       "                        <th id=\"T_164ca5ea_82bb_11eb_8b6b_5a6bdff4e0f0level0_row2\" class=\"row_heading level0 row2\" >2</th>\n",
       "                        <td id=\"T_164ca5ea_82bb_11eb_8b6b_5a6bdff4e0f0row2_col0\" class=\"data row2 col0\" >0.000738743</td>\n",
       "                        <td id=\"T_164ca5ea_82bb_11eb_8b6b_5a6bdff4e0f0row2_col1\" class=\"data row2 col1\" >age</td>\n",
       "            </tr>\n",
       "            <tr>\n",
       "                        <th id=\"T_164ca5ea_82bb_11eb_8b6b_5a6bdff4e0f0level0_row3\" class=\"row_heading level0 row3\" >3</th>\n",
       "                        <td id=\"T_164ca5ea_82bb_11eb_8b6b_5a6bdff4e0f0row3_col0\" class=\"data row3 col0\" >0.073021</td>\n",
       "                        <td id=\"T_164ca5ea_82bb_11eb_8b6b_5a6bdff4e0f0row3_col1\" class=\"data row3 col1\" >average hours</td>\n",
       "            </tr>\n",
       "            <tr>\n",
       "                        <th id=\"T_164ca5ea_82bb_11eb_8b6b_5a6bdff4e0f0level0_row4\" class=\"row_heading level0 row4\" >4</th>\n",
       "                        <td id=\"T_164ca5ea_82bb_11eb_8b6b_5a6bdff4e0f0row4_col0\" class=\"data row4 col0\" >0.388069</td>\n",
       "                        <td id=\"T_164ca5ea_82bb_11eb_8b6b_5a6bdff4e0f0row4_col1\" class=\"data row4 col1\" >Other</td>\n",
       "            </tr>\n",
       "    </tbody></table>"
      ],
      "text/plain": [
       "<pandas.io.formats.style.Styler at 0x7fa2fa901350>"
      ]
     },
     "execution_count": 36,
     "metadata": {},
     "output_type": "execute_result"
    }
   ],
   "source": [
    "# Feature importance (with average hours) on Depression\n",
    "weights_hours_depression = list(zip(clf_hours_depression.coef_.tolist()[0], ['age', 'average hours'] + list(gender)))\n",
    "weights_hours_depression.sort()\n",
    "weights_hours_depression_df = pd.DataFrame(weights_hours_depression, columns=['Weight', 'Feature'])\n",
    "weights_hours_depression_df.style.set_caption(\"Feature Weights with Average Hours on Depression\")"
   ]
  },
  {
   "cell_type": "markdown",
   "metadata": {},
   "source": [
    "The DataFrame above describes all of the feature weights, including the individual's identity and their average hours spent daily on social media on the outcome of whether they have Depression or not. Average Hours has a positive weight, which indicates that as the average hours increase, the individual is more likely to have Depression, but is not as strong as the weight of App Count on Depression."
   ]
  },
  {
   "cell_type": "code",
   "execution_count": 37,
   "metadata": {},
   "outputs": [
    {
     "data": {
      "image/png": "[encoded data removed]",
      "text/plain": [
       "<Figure size 1008x288 with 2 Axes>"
      ]
     },
     "metadata": {
      "needs_background": "light"
     },
     "output_type": "display_data"
    }
   ],
   "source": [
    "fig, ax = plt.subplots(1,2,figsize=(14,4), sharex=True)\n",
    "\n",
    "# Plot feature weights\n",
    "ax1 = sns.barplot(x='Weight', y='Feature', data=weights_app_depression_df, palette='Blues', ax=ax[0])\n",
    "ax1.set_title(\"Feature Weights With App Count on Depression\")\n",
    "\n",
    "# Plot feature weights\n",
    "ax2 = sns.barplot(x='Weight', y='Feature', data=weights_hours_depression_df, palette='Blues', ax=ax[1])\n",
    "ax2.set_title(\"Feature Weights With Average Hours on Depression\")\n",
    "\n",
    "plt.subplots_adjust(wspace=0.5)"
   ]
  },
  {
   "cell_type": "markdown",
   "metadata": {},
   "source": [
    "The plots above are visualizations of the previous two DataFrames. They both demonstrate that Males are less likely to have Depression than Females and any other gender appears to experience Depression at much higher rates. The important thing to take out of these plots is that App Count and Average Hours have a positive weight, which means that they have a positive correlation with Depression, and App Count has a slightly higher weight than Average Hours, thus App Count is a greater influence towards Depression."
   ]
  },
  {
   "cell_type": "code",
   "execution_count": 38,
   "metadata": {},
   "outputs": [
    {
     "data": {
      "text/html": [
       "<style  type=\"text/css\" >\n",
       "</style><table id=\"T_16722478_82bb_11eb_8b6b_5a6bdff4e0f0\" ><caption>Feature Weights with App Count on Anxiety</caption><thead>    <tr>        <th class=\"blank level0\" ></th>        <th class=\"col_heading level0 col0\" >Weight</th>        <th class=\"col_heading level0 col1\" >Feature</th>    </tr></thead><tbody>\n",
       "                <tr>\n",
       "                        <th id=\"T_16722478_82bb_11eb_8b6b_5a6bdff4e0f0level0_row0\" class=\"row_heading level0 row0\" >0</th>\n",
       "                        <td id=\"T_16722478_82bb_11eb_8b6b_5a6bdff4e0f0row0_col0\" class=\"data row0 col0\" >-1.0936</td>\n",
       "                        <td id=\"T_16722478_82bb_11eb_8b6b_5a6bdff4e0f0row0_col1\" class=\"data row0 col1\" >Male</td>\n",
       "            </tr>\n",
       "            <tr>\n",
       "                        <th id=\"T_16722478_82bb_11eb_8b6b_5a6bdff4e0f0level0_row1\" class=\"row_heading level0 row1\" >1</th>\n",
       "                        <td id=\"T_16722478_82bb_11eb_8b6b_5a6bdff4e0f0row1_col0\" class=\"data row1 col0\" >-0.00852613</td>\n",
       "                        <td id=\"T_16722478_82bb_11eb_8b6b_5a6bdff4e0f0row1_col1\" class=\"data row1 col1\" >age</td>\n",
       "            </tr>\n",
       "            <tr>\n",
       "                        <th id=\"T_16722478_82bb_11eb_8b6b_5a6bdff4e0f0level0_row2\" class=\"row_heading level0 row2\" >2</th>\n",
       "                        <td id=\"T_16722478_82bb_11eb_8b6b_5a6bdff4e0f0row2_col0\" class=\"data row2 col0\" >0.104401</td>\n",
       "                        <td id=\"T_16722478_82bb_11eb_8b6b_5a6bdff4e0f0row2_col1\" class=\"data row2 col1\" >app count</td>\n",
       "            </tr>\n",
       "            <tr>\n",
       "                        <th id=\"T_16722478_82bb_11eb_8b6b_5a6bdff4e0f0level0_row3\" class=\"row_heading level0 row3\" >3</th>\n",
       "                        <td id=\"T_16722478_82bb_11eb_8b6b_5a6bdff4e0f0row3_col0\" class=\"data row3 col0\" >0.219049</td>\n",
       "                        <td id=\"T_16722478_82bb_11eb_8b6b_5a6bdff4e0f0row3_col1\" class=\"data row3 col1\" >Female</td>\n",
       "            </tr>\n",
       "            <tr>\n",
       "                        <th id=\"T_16722478_82bb_11eb_8b6b_5a6bdff4e0f0level0_row4\" class=\"row_heading level0 row4\" >4</th>\n",
       "                        <td id=\"T_16722478_82bb_11eb_8b6b_5a6bdff4e0f0row4_col0\" class=\"data row4 col0\" >0.854444</td>\n",
       "                        <td id=\"T_16722478_82bb_11eb_8b6b_5a6bdff4e0f0row4_col1\" class=\"data row4 col1\" >Other</td>\n",
       "            </tr>\n",
       "    </tbody></table>"
      ],
      "text/plain": [
       "<pandas.io.formats.style.Styler at 0x7fa2fa11a110>"
      ]
     },
     "execution_count": 38,
     "metadata": {},
     "output_type": "execute_result"
    }
   ],
   "source": [
    "# Feature importance (with app count) on Anxiety\n",
    "weights_app_anxiety = list(zip(clf_apps_anxiety.coef_.tolist()[0], ['age', 'app count'] + list(gender)))\n",
    "weights_app_anxiety.sort()\n",
    "weights_app_anxiety_df = pd.DataFrame(weights_app_anxiety, columns=['Weight', 'Feature'])\n",
    "weights_app_anxiety_df.style.set_caption(\"Feature Weights with App Count on Anxiety\")"
   ]
  },
  {
   "cell_type": "markdown",
   "metadata": {},
   "source": [
    "The DataFrame above describes all of the feature weights, including the individual's identity and their amount of social media applications, on the outcome of whether they have Anxiety or not. App Count has a positive weight, which indicates that as one's social media app count increases, they are more likely to have Anxiety."
   ]
  },
  {
   "cell_type": "code",
   "execution_count": 39,
   "metadata": {},
   "outputs": [
    {
     "data": {
      "text/html": [
       "<style  type=\"text/css\" >\n",
       "</style><table id=\"T_16748d80_82bb_11eb_8b6b_5a6bdff4e0f0\" ><caption>Feature Weights with Average Hours on Anxiety</caption><thead>    <tr>        <th class=\"blank level0\" ></th>        <th class=\"col_heading level0 col0\" >Weight</th>        <th class=\"col_heading level0 col1\" >Feature</th>    </tr></thead><tbody>\n",
       "                <tr>\n",
       "                        <th id=\"T_16748d80_82bb_11eb_8b6b_5a6bdff4e0f0level0_row0\" class=\"row_heading level0 row0\" >0</th>\n",
       "                        <td id=\"T_16748d80_82bb_11eb_8b6b_5a6bdff4e0f0row0_col0\" class=\"data row0 col0\" >-1.17925</td>\n",
       "                        <td id=\"T_16748d80_82bb_11eb_8b6b_5a6bdff4e0f0row0_col1\" class=\"data row0 col1\" >Male</td>\n",
       "            </tr>\n",
       "            <tr>\n",
       "                        <th id=\"T_16748d80_82bb_11eb_8b6b_5a6bdff4e0f0level0_row1\" class=\"row_heading level0 row1\" >1</th>\n",
       "                        <td id=\"T_16748d80_82bb_11eb_8b6b_5a6bdff4e0f0row1_col0\" class=\"data row1 col0\" >-0.25402</td>\n",
       "                        <td id=\"T_16748d80_82bb_11eb_8b6b_5a6bdff4e0f0row1_col1\" class=\"data row1 col1\" >Female</td>\n",
       "            </tr>\n",
       "            <tr>\n",
       "                        <th id=\"T_16748d80_82bb_11eb_8b6b_5a6bdff4e0f0level0_row2\" class=\"row_heading level0 row2\" >2</th>\n",
       "                        <td id=\"T_16748d80_82bb_11eb_8b6b_5a6bdff4e0f0row2_col0\" class=\"data row2 col0\" >0.000738743</td>\n",
       "                        <td id=\"T_16748d80_82bb_11eb_8b6b_5a6bdff4e0f0row2_col1\" class=\"data row2 col1\" >age</td>\n",
       "            </tr>\n",
       "            <tr>\n",
       "                        <th id=\"T_16748d80_82bb_11eb_8b6b_5a6bdff4e0f0level0_row3\" class=\"row_heading level0 row3\" >3</th>\n",
       "                        <td id=\"T_16748d80_82bb_11eb_8b6b_5a6bdff4e0f0row3_col0\" class=\"data row3 col0\" >0.073021</td>\n",
       "                        <td id=\"T_16748d80_82bb_11eb_8b6b_5a6bdff4e0f0row3_col1\" class=\"data row3 col1\" >average hours</td>\n",
       "            </tr>\n",
       "            <tr>\n",
       "                        <th id=\"T_16748d80_82bb_11eb_8b6b_5a6bdff4e0f0level0_row4\" class=\"row_heading level0 row4\" >4</th>\n",
       "                        <td id=\"T_16748d80_82bb_11eb_8b6b_5a6bdff4e0f0row4_col0\" class=\"data row4 col0\" >0.388069</td>\n",
       "                        <td id=\"T_16748d80_82bb_11eb_8b6b_5a6bdff4e0f0row4_col1\" class=\"data row4 col1\" >Other</td>\n",
       "            </tr>\n",
       "    </tbody></table>"
      ],
      "text/plain": [
       "<pandas.io.formats.style.Styler at 0x7fa2fa12f550>"
      ]
     },
     "execution_count": 39,
     "metadata": {},
     "output_type": "execute_result"
    }
   ],
   "source": [
    "# Feature importance (with average hours) on Depression\n",
    "weights_hours_anxiety = list(zip(clf_hours_anxiety.coef_.tolist()[0], ['age', 'average hours'] + list(gender)))\n",
    "weights_hours_anxiety.sort()\n",
    "weights_hours_anxiety_df = pd.DataFrame(weights_hours_anxiety, columns=['Weight', 'Feature'])\n",
    "weights_hours_depression_df.style.set_caption(\"Feature Weights with Average Hours on Anxiety\")"
   ]
  },
  {
   "cell_type": "markdown",
   "metadata": {},
   "source": [
    "The DataFrame above describes all of the feature weights, including the individual's identity and the average amount of hours they spend on social media applications daily, on the outcome of whether they have Anxiety or not. Average Hours has a positive weight, which indicates that as one's social media app count increases, they are more likely to have Anxiety, but it is lower than the weight of App Count, which means a high Average Hours value is a stronger indicator that the individual has Anxiety than their App Count."
   ]
  },
  {
   "cell_type": "code",
   "execution_count": 42,
   "metadata": {},
   "outputs": [
    {
     "data": {
      "image/png": "[encoded data removed]",
      "text/plain": [
       "<Figure size 1008x288 with 2 Axes>"
      ]
     },
     "metadata": {
      "needs_background": "light"
     },
     "output_type": "display_data"
    }
   ],
   "source": [
    "fig, ax = plt.subplots(1,2,figsize=(14,4), sharex=True)\n",
    "\n",
    "# Plot feature weights\n",
    "ax1 = sns.barplot(x='Weight', y='Feature', data=weights_app_anxiety_df, palette='Oranges', ax=ax[0])\n",
    "ax1.set_title(\"Feature Weights With App Count on Anxiety\")\n",
    "\n",
    "# Plot feature weights\n",
    "ax2 = sns.barplot(x='Weight', y='Feature', data=weights_hours_anxiety_df, palette='Oranges', ax=ax[1])\n",
    "ax2.set_title(\"Feature Weights With Average Hours on Anxiety\")\n",
    "\n",
    "plt.subplots_adjust(wspace=0.5)"
   ]
  },
  {
   "cell_type": "markdown",
   "metadata": {},
   "source": [
    "The plots above are visualizations of the previous two DataFrames. They both demonstrate that Males are less likely to have Anxiety than Females and any other gender appears to experience Anxiety at much higher rates. Being Female also has a positive weight on Anxiety. The important thing to take out of these plots is that App Count and Average Hours have a positive weight, similar to the Depression plots, which means that they have a positive correlation with Anxiety, and Average Hours has a slightly higher weight than App Count, thus Average Hours is a greater influence towards Anxiety."
   ]
  },
  {
   "cell_type": "code",
   "execution_count": 79,
   "metadata": {},
   "outputs": [],
   "source": [
    "# Get all weights we want to compare\n",
    "feat_weights = pd.DataFrame()\n",
    "feat_weights = feat_weights.append(weights_hours_anxiety_df[weights_hours_anxiety_df['Feature'] == 'average hours'], ignore_index=True)\n",
    "feat_weights.loc[0, 'Feature'] = 'Hours Impact \\n on Anxiety'\n",
    "feat_weights = feat_weights.append(weights_app_anxiety_df[weights_app_anxiety_df['Feature'] == 'app count'], ignore_index=True)\n",
    "feat_weights.loc[1, 'Feature'] = 'App Count \\n Impact on \\n Anxiety'\n",
    "feat_weights = feat_weights.append(weights_hours_depression_df[weights_hours_depression_df['Feature'] == 'average hours'], ignore_index=True)\n",
    "feat_weights.loc[2, 'Feature'] = 'Hours Impact \\n on Depression'\n",
    "feat_weights = feat_weights.append(weights_app_anxiety_df[weights_app_anxiety_df['Feature'] == 'app count'], ignore_index=True)\n",
    "feat_weights.loc[3, 'Feature'] = 'App Count \\n Impact on \\n Depression'\n",
    "feat_weights.sort_values(by='Weight', inplace=True, ascending=False)"
   ]
  },
  {
   "cell_type": "code",
   "execution_count": 80,
   "metadata": {},
   "outputs": [
    {
     "data": {
      "text/plain": [
       "Text(0.5, 1.0, 'Feature Weights')"
      ]
     },
     "execution_count": 80,
     "metadata": {},
     "output_type": "execute_result"
    },
    {
     "data": {
      "image/png": "[encoded data removed]",
      "text/plain": [
       "<Figure size 432x288 with 1 Axes>"
      ]
     },
     "metadata": {
      "needs_background": "light"
     },
     "output_type": "display_data"
    }
   ],
   "source": [
    "# Plot the weights\n",
    "ax = sns.barplot(y='Weight', x='Feature', data=feat_weights, palette='Purples_r')\n",
    "ax.set_title('Feature Weights')"
   ]
  },
  {
   "cell_type": "markdown",
   "metadata": {},
   "source": [
    "The bar plot above illustrates the weights of Average Hours and App Count on Depression and Anxiety. From this, we can see that the Average Hours feature on Anxiety has the highest weight, which indicates that the amount of time an individual spends on social media daily has the greatest impact on whether they have Anxiety. This is followed by the impact that the amount of social media apps has on whether an individual has Anxiety and Depression. Lastly, the smallest weight is that of Average Hours on Depression. However, it is important to note that all of these weights are positive, meaning that as one's app count and average hours spent on social media increases, so does their likelihood of being Depressed and/or having Anxiety."
   ]
  },
  {
   "cell_type": "markdown",
   "metadata": {},
   "source": [
    "# Ethics & Privacy"
   ]
  },
  {
   "cell_type": "markdown",
   "metadata": {},
   "source": [
    "*Fill in your ethics & privacy discussion here*"
   ]
  },
  {
   "cell_type": "markdown",
   "metadata": {},
   "source": [
    "# Conclusion & Discussion"
   ]
  },
  {
   "cell_type": "markdown",
   "metadata": {},
   "source": [
    "*Fill in your discussion information here*"
   ]
  },
  {
   "cell_type": "markdown",
   "metadata": {},
   "source": [
    "# Team Contributions"
   ]
  },
  {
   "cell_type": "markdown",
   "metadata": {},
   "source": [
    "*Specify who in your group worked on which parts of the project.*"
   ]
  }
 ],
 "metadata": {
  "kernelspec": {
   "display_name": "Python 3",
   "language": "python",
   "name": "python3"
  },
  "language_info": {
   "codemirror_mode": {
    "name": "ipython",
    "version": 3
   },
   "file_extension": ".py",
   "mimetype": "text/x-python",
   "name": "python",
   "nbconvert_exporter": "python",
   "pygments_lexer": "ipython3",
   "version": "3.7.6"
  }
 },
 "nbformat": 4,
 "nbformat_minor": 2
}
